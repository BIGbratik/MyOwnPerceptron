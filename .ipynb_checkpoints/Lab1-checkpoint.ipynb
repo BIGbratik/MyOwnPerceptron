{
 "cells": [
  {
   "cell_type": "code",
   "execution_count": 1,
   "id": "366e6406-5a3e-4970-ac85-f9f0b547f1ce",
   "metadata": {},
   "outputs": [],
   "source": [
    "import numpy as np\n",
    "\n",
    "# Класс, реализующий функции однослойного перцепторна\n",
    "class Perceptron:\n",
    "    def __init__(self, input_size, features, learning_rate=0.01, epochs=1000):\n",
    "        self.input_size = input_size\n",
    "        self.learning_rate = learning_rate\n",
    "        self.epochs = epochs\n",
    "        self.loss_history = []\n",
    "        # Инициализируем веса случайными небольшими значениями\n",
    "        self.weights =  np.random.uniform(-1,1,(input_size,features))\n",
    "        self.biases = np.random.uniform(-1,1,features)\n",
    "\n",
    "    # Фнукция активации - Сигмоид\n",
    "    def activation(self, x):\n",
    "        return 1 / (1 + np.exp(-x))\n",
    "\n",
    "    # Производная функции активации\n",
    "    def derivative_activation(self, x):\n",
    "        return x * (1 - x)\n",
    "\n",
    "    # Предсказание\n",
    "    def predict(self, x):\n",
    "        linear_output = np.dot(x, self.weights) + self.biases\n",
    "        return self.activation(linear_output)\n",
    "\n",
    "    def loss(self, predicted, target):\n",
    "        return predicted - target\n",
    "\n",
    "    def fit(self, X, Y):\n",
    "        for epoch in range(self.epochs):\n",
    "            total_loss = 0  # Накопление ошибки за эпоху\n",
    "\n",
    "            for i in range(len(X)):\n",
    "                x = X[i]\n",
    "                y = Y[i]\n",
    "                output = self.predict(x)\n",
    "                error = y - output\n",
    "                gradient = error * self.derivative_activation(output)\n",
    "                self.weights += self.learning_rate * np.outer(x, gradient)\n",
    "                self.biases += self.learning_rate * gradient\n",
    "                total_loss += np.mean(error**2)\n",
    "            self.loss_history.append(total_loss / len(X))\n",
    "            print(f\"Эпоха {epoch + 1}/{self.epochs}, Потери: {self.loss_history[-1]:.4f}\")\n",
    "\n",
    "    # Рассчёт точности обученной модели\n",
    "    def evaluate(self, X, y):\n",
    "        correct_predictions = 0\n",
    "        for i in range(len(X)):\n",
    "            predict = self.predict(X[i])\n",
    "            if np.argmax(predict) == np.argmax(y[i]):\n",
    "                correct_predictions += 1\n",
    "        return correct_predictions / len(X)"
   ]
  },
  {
   "cell_type": "code",
   "execution_count": 35,
   "id": "4f3500f6-5ef6-4ce3-8084-b8e7f2f223a4",
   "metadata": {},
   "outputs": [
    {
     "name": "stdout",
     "output_type": "stream",
     "text": [
      "Эпоха 1/10, Потери: 0.0314\n",
      "Эпоха 2/10, Потери: 0.0250\n",
      "Эпоха 3/10, Потери: 0.0240\n",
      "Эпоха 4/10, Потери: 0.0184\n",
      "Эпоха 5/10, Потери: 0.0173\n",
      "Эпоха 6/10, Потери: 0.0169\n",
      "Эпоха 7/10, Потери: 0.0167\n",
      "Эпоха 8/10, Потери: 0.0165\n",
      "Эпоха 9/10, Потери: 0.0163\n",
      "Эпоха 10/10, Потери: 0.0161\n"
     ]
    }
   ],
   "source": [
    "from tensorflow.keras.datasets import mnist\n",
    "from tensorflow.keras.utils import to_categorical\n",
    "\n",
    "(x_train, y_train), (x_test, y_test) = mnist.load_data()\n",
    "x_train = x_train.reshape(x_train.shape[0], -1) / 255.0\n",
    "x_test = x_test.reshape(x_test.shape[0], -1) / 255.0\n",
    "y_train = to_categorical(y_train)\n",
    "y_test = to_categorical(y_test)\n",
    "\n",
    "# Создаем объект перцептрона\n",
    "perceptron = Perceptron(input_size=x_train.shape[1], features=y_train.shape[1], learning_rate=0.25, epochs=10)\n",
    "# Обучаем перцептрон\n",
    "perceptron.fit(x_train, y_train)\n"
   ]
  },
  {
   "cell_type": "code",
   "execution_count": 37,
   "id": "99535e98-7fcf-42fe-b79e-09ae3ccc4d06",
   "metadata": {},
   "outputs": [
    {
     "name": "stdout",
     "output_type": "stream",
     "text": [
      "Точность на обучающей выборке: 91.08%\n"
     ]
    }
   ],
   "source": [
    "# Проверяем, как перцептрон предсказывает обучение\n",
    "accuracy = perceptron.evaluate(x_test, y_test)\n",
    "\n",
    "print(f\"Точность на обучающей выборке: {accuracy * 100:.2f}%\")"
   ]
  },
  {
   "cell_type": "code",
   "execution_count": 49,
   "id": "a2f96806-b678-4ff6-aeb7-2f4cf9989d76",
   "metadata": {},
   "outputs": [
    {
     "name": "stdout",
     "output_type": "stream",
     "text": [
      "Результат работы предсказателя - [[1.07154268e-13 7.10096205e-15 1.42106402e-22 9.99999966e-01\n",
      "  1.84428510e-21 9.08072749e-18 1.75793619e-12 5.04720553e-23\n",
      "  2.42889079e-04 3.38251431e-27]]\n"
     ]
    },
    {
     "data": {
      "image/png": "[encoded data removed]",
      "text/plain": [
       "<Figure size 640x480 with 1 Axes>"
      ]
     },
     "metadata": {},
     "output_type": "display_data"
    }
   ],
   "source": [
    "import matplotlib.pyplot as plt\n",
    "\n",
    "# Берём своё изображение\n",
    "test_image = plt.imread(\"custom_3.jpg\", format=\"jpeg\")\n",
    "\n",
    "# Приведение изображения виду датасета MNIST\n",
    "gray = lambda rgb : np.dot(rgb[... , :3] , [0.299 , 0.587, 0.114]) \n",
    "test_image = 1 - (gray(test_image).astype(\"float32\") / 255)\n",
    "\n",
    "# Преобразование изображения к виду массива\n",
    "test_image = np.reshape(test_image, (test_image.shape[0] * test_image.shape[1]))\n",
    "\n",
    "# Предсказание заданного изображения обученной моделью\n",
    "image = np.reshape(test_image, (-1, 1))\n",
    "\n",
    "linear_output= np.dot(perceptron.weights.T,image)\n",
    "output = perceptron.activation(linear_output.T)\n",
    "\n",
    "print(f\"Результат работы предсказателя - {output}\")\n",
    "plt.imshow(test_image.reshape(28, 28), cmap=\"Greys\")\n",
    "plt.title(f\"NN suggests the CUSTOM number is: {output.argmax()}\")\n",
    "plt.show()"
   ]
  }
 ],
 "metadata": {
  "kernelspec": {
   "display_name": "Python 3 (ipykernel)",
   "language": "python",
   "name": "python3"
  },
  "language_info": {
   "codemirror_mode": {
    "name": "ipython",
    "version": 3
   },
   "file_extension": ".py",
   "mimetype": "text/x-python",
   "name": "python",
   "nbconvert_exporter": "python",
   "pygments_lexer": "ipython3",
   "version": "3.11.11"
  }
 },
 "nbformat": 4,
 "nbformat_minor": 5
}
