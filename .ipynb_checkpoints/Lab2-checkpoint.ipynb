{
 "cells": [
  {
   "cell_type": "code",
   "execution_count": 1,
   "id": "e4f73539-102f-4db9-9e57-c7ed8048bc76",
   "metadata": {},
   "outputs": [],
   "source": [
    "import numpy as np\n",
    "\n",
    "# Класс, реализующий функции однослойного перцепторна\n",
    "class Perceptron:\n",
    "    def __init__(self, input_size, features, learning_rate=0.01, epochs=1000):\n",
    "        self.input_size = input_size\n",
    "        self.learning_rate = learning_rate\n",
    "        self.epochs = epochs\n",
    "        self.loss_history = []\n",
    "        # Инициализируем веса случайными небольшими значениями\n",
    "        self.weights =  np.random.uniform(-1,1,(input_size,features))\n",
    "        self.biases = np.random.uniform(-1,1,features)\n",
    "\n",
    "    # Функция активации - SoftMax\n",
    "    def activation(self, x):\n",
    "        e_x = np.exp(x - np.max(x))\n",
    "        return e_x / e_x.sum(axis=-1, keepdims=True)\n",
    "\n",
    "    # Предсказание\n",
    "    def predict(self, x):\n",
    "        linear_output = np.dot(x, self.weights) + self.biases\n",
    "        return self.activation(linear_output)\n",
    "\n",
    "    def loss(self, predicted, target):\n",
    "        return predicted - target\n",
    "\n",
    "    #Обучение\n",
    "    def fit(self, X, Y):\n",
    "        for epoch in range(self.epochs):\n",
    "            total_loss = 0  # Накопление ошибки за эпоху\n",
    "            correct = 0\n",
    "\n",
    "            for i in range(len(X)):\n",
    "                x = X[i]\n",
    "                y = Y[i]\n",
    "                output = self.predict(x)\n",
    "\n",
    "                target = np.argmax(y)\n",
    "                predicted = np.argmax(output)\n",
    "               \n",
    "                if predicted == target:\n",
    "                    correct+=1\n",
    "                    continue\n",
    "                else:\n",
    "                    self.weights[:,target] += self.learning_rate * X[i]\n",
    "                    self.biases[target] += self.learning_rate\n",
    "\n",
    "                    self.weights[:,predicted] -= self.learning_rate * X[i]\n",
    "                    self.biases[predicted] -= self.learning_rate\n",
    "                error = self.loss(output,y)\n",
    "                total_loss += np.mean(error**2)\n",
    "            self.loss_history.append(total_loss / len(X))\n",
    "            print(f\"Эпоха {epoch + 1}/{self.epochs}, Потери: {self.loss_history[-1]:.4f}\")\n",
    "\n",
    "    # Рассчёт точности обученной модели\n",
    "    def evaluate(self, X, y):\n",
    "        correct_predictions = 0\n",
    "        for i in range(len(X)):\n",
    "            predict = self.predict(X[i])\n",
    "            if np.argmax(predict) == np.argmax(y[i]):\n",
    "                correct_predictions += 1\n",
    "        return correct_predictions / len(X)"
   ]
  },
  {
   "cell_type": "code",
   "execution_count": 3,
   "id": "09b99392-6f96-4397-8b2f-f8a3dbdc9abc",
   "metadata": {},
   "outputs": [
    {
     "name": "stdout",
     "output_type": "stream",
     "text": [
      "Эпоха 1/10, Потери: 0.0265\n",
      "Эпоха 2/10, Потери: 0.0223\n",
      "Эпоха 3/10, Потери: 0.0214\n",
      "Эпоха 4/10, Потери: 0.0210\n",
      "Эпоха 5/10, Потери: 0.0210\n",
      "Эпоха 6/10, Потери: 0.0206\n",
      "Эпоха 7/10, Потери: 0.0205\n",
      "Эпоха 8/10, Потери: 0.0199\n",
      "Эпоха 9/10, Потери: 0.0202\n",
      "Эпоха 10/10, Потери: 0.0204\n"
     ]
    }
   ],
   "source": [
    "from tensorflow.keras.datasets import mnist\n",
    "from tensorflow.keras.utils import to_categorical\n",
    "\n",
    "(x_train, y_train), (x_test, y_test) = mnist.load_data()\n",
    "x_train = x_train.reshape(x_train.shape[0], -1) / 255.0\n",
    "x_test = x_test.reshape(x_test.shape[0], -1) / 255.0\n",
    "y_train = to_categorical(y_train)\n",
    "y_test = to_categorical(y_test)\n",
    "\n",
    "# Создаем объект перцептрона\n",
    "perceptron = Perceptron(input_size=x_train.shape[1], features=y_train.shape[1], learning_rate=0.25, epochs=10)\n",
    "# Обучаем перцептрон\n",
    "perceptron.fit(x_train, y_train)"
   ]
  },
  {
   "cell_type": "code",
   "execution_count": 5,
   "id": "846fb12a-8bc6-477f-8075-bd959c501660",
   "metadata": {},
   "outputs": [
    {
     "name": "stdout",
     "output_type": "stream",
     "text": [
      "Точность на обучающей выборке: 85.56%\n"
     ]
    }
   ],
   "source": [
    "# Проверяем, как перцептрон предсказывает обучение\n",
    "accuracy = perceptron.evaluate(x_test, y_test)\n",
    "\n",
    "print(f\"Точность на обучающей выборке: {accuracy * 100:.2f}%\")"
   ]
  },
  {
   "cell_type": "code",
   "execution_count": 15,
   "id": "6f35cc15-158c-4c6a-875c-6ad065944f17",
   "metadata": {},
   "outputs": [
    {
     "name": "stdout",
     "output_type": "stream",
     "text": [
      "Результат работы предсказателя - [[2.50342621e-89 3.86385829e-35 1.87936011e-87 3.44249014e-46\n",
      "  1.57361110e-32 2.82093646e-23 5.27451280e-90 1.11953424e-17\n",
      "  3.93037790e-26 1.00000000e+00]]\n"
     ]
    },
    {
     "data": {
      "image/png": "[encoded data removed]",
      "text/plain": [
       "<Figure size 640x480 with 1 Axes>"
      ]
     },
     "metadata": {},
     "output_type": "display_data"
    }
   ],
   "source": [
    "import matplotlib.pyplot as plt\n",
    "\n",
    "# Берём своё изображение\n",
    "test_image = plt.imread(\"custom_1.jpg\", format=\"jpeg\")\n",
    "\n",
    "# Приведение изображения виду датасета MNIST\n",
    "gray = lambda rgb : np.dot(rgb[... , :3] , [0.299 , 0.587, 0.114]) \n",
    "test_image = 1 - (gray(test_image).astype(\"float32\") / 255)\n",
    "\n",
    "# Преобразование изображения к виду массива\n",
    "test_image = np.reshape(test_image, (test_image.shape[0] * test_image.shape[1]))\n",
    "\n",
    "# Предсказание заданного изображения обученной моделью\n",
    "image = np.reshape(test_image, (-1, 1))\n",
    "\n",
    "output= perceptron.predict(image.T)\n",
    "\n",
    "print(f\"Результат работы предсказателя - {output}\")\n",
    "plt.imshow(test_image.reshape(28, 28), cmap=\"Greys\")\n",
    "plt.title(f\"NN suggests the CUSTOM number is: {output.argmax()}\")\n",
    "plt.show()"
   ]
  }
 ],
 "metadata": {
  "kernelspec": {
   "display_name": "Python 3 (ipykernel)",
   "language": "python",
   "name": "python3"
  },
  "language_info": {
   "codemirror_mode": {
    "name": "ipython",
    "version": 3
   },
   "file_extension": ".py",
   "mimetype": "text/x-python",
   "name": "python",
   "nbconvert_exporter": "python",
   "pygments_lexer": "ipython3",
   "version": "3.11.11"
  }
 },
 "nbformat": 4,
 "nbformat_minor": 5
}
