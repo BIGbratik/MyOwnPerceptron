{
 "cells": [
  {
   "cell_type": "code",
   "execution_count": 69,
   "id": "e4f73539-102f-4db9-9e57-c7ed8048bc76",
   "metadata": {},
   "outputs": [],
   "source": [
    "import numpy as np\n",
    "\n",
    "# Класс, реализующий функции однослойного перцепторна\n",
    "class Perceptron:\n",
    "    def __init__(self, input_size, features, learning_rate=0.01, epochs=1000):\n",
    "        self.input_size = input_size\n",
    "        self.learning_rate = learning_rate\n",
    "        self.epochs = epochs\n",
    "        self.loss_history = []\n",
    "        # Инициализируем веса случайными небольшими значениями\n",
    "        self.weights =  np.random.uniform(-1,1,(input_size,features))\n",
    "        self.biases = np.random.uniform(-1,1,features)\n",
    "\n",
    "    # Фнукция активации - SoftMax\n",
    "    def activation(self, x):\n",
    "        e_x = np.exp(x - np.max(x))\n",
    "        return e_x / e_x.sum(axis=-1, keepdims=True)\n",
    "\n",
    "    # Предсказание\n",
    "    def predict(self, x):\n",
    "        linear_output = np.dot(x, self.weights) + self.biases\n",
    "        return self.activation(linear_output)\n",
    "\n",
    "    def loss(self, predicted, target):\n",
    "        return predicted - target\n",
    "\n",
    "    #Обучение\n",
    "    def fit(self, X, Y):\n",
    "        for epoch in range(self.epochs):\n",
    "            total_loss = 0  # Накопление ошибки за эпоху\n",
    "            correct = 0\n",
    "\n",
    "            for i in range(len(X)):\n",
    "                x = X[i]\n",
    "                y = Y[i]\n",
    "                output = self.predict(x)\n",
    "\n",
    "                target = np.argmax(y)\n",
    "                predicted = np.argmax(output)\n",
    "               \n",
    "                if predicted == target:\n",
    "                    correct+=1\n",
    "                    continue\n",
    "                else:\n",
    "                    print(self.weights.shape)\n",
    "                    self.weights[target] += self.learning_rate * X[i]\n",
    "                    self.biases[target] += self.learning_rate\n",
    "\n",
    "                    self.weights[predicted] -= self.learning_rate * X[i]\n",
    "                    self.biases[predicted] -= self.learning_rate\n",
    "                total_loss += np.mean(error**2)\n",
    "            self.loss_history.append(total_loss / len(X))\n",
    "            print(f\"Эпоха {epoch + 1}/{self.epochs}, Потери: {self.loss_history[-1]:.4f}\")\n",
    "\n",
    "    # Рассчёт точности обученной модели\n",
    "    def evaluate(self, X, y):\n",
    "        correct_predictions = 0\n",
    "        for i in range(len(X)):\n",
    "            predict = self.predict(X[i])\n",
    "            if np.argmax(predict) == np.argmax(y[i]):\n",
    "                correct_predictions += 1\n",
    "        return correct_predictions / len(X)"
   ]
  },
  {
   "cell_type": "code",
   "execution_count": 71,
   "id": "09b99392-6f96-4397-8b2f-f8a3dbdc9abc",
   "metadata": {},
   "outputs": [
    {
     "name": "stdout",
     "output_type": "stream",
     "text": [
      "[-14.87493643  -7.63573111  12.24793383   6.48458378 -10.64399695\n",
      " -17.69970322  -0.46387827  -2.55841528   1.42537126  -2.65085237]\n",
      "(784, 10)\n"
     ]
    },
    {
     "ename": "ValueError",
     "evalue": "operands could not be broadcast together with shapes (10,) (784,) (10,) ",
     "output_type": "error",
     "traceback": [
      "\u001b[1;31m---------------------------------------------------------------------------\u001b[0m",
      "\u001b[1;31mValueError\u001b[0m                                Traceback (most recent call last)",
      "Cell \u001b[1;32mIn[71], line 13\u001b[0m\n\u001b[0;32m     11\u001b[0m perceptron \u001b[38;5;241m=\u001b[39m Perceptron(input_size\u001b[38;5;241m=\u001b[39mx_train\u001b[38;5;241m.\u001b[39mshape[\u001b[38;5;241m1\u001b[39m], features\u001b[38;5;241m=\u001b[39my_train\u001b[38;5;241m.\u001b[39mshape[\u001b[38;5;241m1\u001b[39m], learning_rate\u001b[38;5;241m=\u001b[39m\u001b[38;5;241m0.1\u001b[39m, epochs\u001b[38;5;241m=\u001b[39m\u001b[38;5;241m50\u001b[39m)\n\u001b[0;32m     12\u001b[0m \u001b[38;5;66;03m# Обучаем перцептрон\u001b[39;00m\n\u001b[1;32m---> 13\u001b[0m perceptron\u001b[38;5;241m.\u001b[39mfit(x_train, y_train)\n",
      "Cell \u001b[1;32mIn[69], line 48\u001b[0m, in \u001b[0;36mPerceptron.fit\u001b[1;34m(self, X, Y)\u001b[0m\n\u001b[0;32m     46\u001b[0m \u001b[38;5;28;01melse\u001b[39;00m:\n\u001b[0;32m     47\u001b[0m     \u001b[38;5;28mprint\u001b[39m(\u001b[38;5;28mself\u001b[39m\u001b[38;5;241m.\u001b[39mweights\u001b[38;5;241m.\u001b[39mshape)\n\u001b[1;32m---> 48\u001b[0m     \u001b[38;5;28mself\u001b[39m\u001b[38;5;241m.\u001b[39mweights[target] \u001b[38;5;241m+\u001b[39m\u001b[38;5;241m=\u001b[39m \u001b[38;5;28mself\u001b[39m\u001b[38;5;241m.\u001b[39mlearning_rate \u001b[38;5;241m*\u001b[39m X[i]\n\u001b[0;32m     49\u001b[0m     \u001b[38;5;28mself\u001b[39m\u001b[38;5;241m.\u001b[39mbiases[target] \u001b[38;5;241m+\u001b[39m\u001b[38;5;241m=\u001b[39m \u001b[38;5;28mself\u001b[39m\u001b[38;5;241m.\u001b[39mlearning_rate\n\u001b[0;32m     51\u001b[0m     \u001b[38;5;28mself\u001b[39m\u001b[38;5;241m.\u001b[39mweights[predicted] \u001b[38;5;241m-\u001b[39m\u001b[38;5;241m=\u001b[39m \u001b[38;5;28mself\u001b[39m\u001b[38;5;241m.\u001b[39mlearning_rate \u001b[38;5;241m*\u001b[39m X[i]\n",
      "\u001b[1;31mValueError\u001b[0m: operands could not be broadcast together with shapes (10,) (784,) (10,) "
     ]
    }
   ],
   "source": [
    "from tensorflow.keras.datasets import fashion_mnist\n",
    "from tensorflow.keras.utils import to_categorical\n",
    "\n",
    "(x_train, y_train), (x_test, y_test) = fashion_mnist.load_data()\n",
    "x_train = x_train.reshape(x_train.shape[0], -1) / 255.0\n",
    "x_test = x_test.reshape(x_test.shape[0], -1) / 255.0\n",
    "y_train = to_categorical(y_train)\n",
    "y_test = to_categorical(y_test)\n",
    "\n",
    "# Создаем объект перцептрона\n",
    "perceptron = Perceptron(input_size=x_train.shape[1], features=y_train.shape[1], learning_rate=0.1, epochs=50)\n",
    "# Обучаем перцептрон\n",
    "perceptron.fit(x_train, y_train)"
   ]
  },
  {
   "cell_type": "code",
   "execution_count": null,
   "id": "846fb12a-8bc6-477f-8075-bd959c501660",
   "metadata": {},
   "outputs": [],
   "source": [
    "# Проверяем, как перцептрон предсказывает обучение\n",
    "accuracy = perceptron.evaluate(x_test, y_test)\n",
    "\n",
    "print(f\"Точность на обучающей выборке: {accuracy * 100:.2f}%\")"
   ]
  },
  {
   "cell_type": "code",
   "execution_count": null,
   "id": "6f35cc15-158c-4c6a-875c-6ad065944f17",
   "metadata": {},
   "outputs": [],
   "source": [
    "import matplotlib.pyplot as plt\n",
    "\n",
    "# Берём своё изображение\n",
    "test_image = plt.imread(\"custom_0.jpg\", format=\"jpeg\")\n",
    "#test_image = plt.imread(\"custom_7.jpg\", format=\"jpeg\")\n",
    "\n",
    "# Приведение изображения виду датасета MNIST\n",
    "gray = lambda rgb : np.dot(rgb[... , :3] , [0.299 , 0.587, 0.114]) \n",
    "test_image = 1 - (gray(test_image).astype(\"float32\") / 255)\n",
    "\n",
    "# Преобразование изображения к виду массива\n",
    "test_image = np.reshape(test_image, (test_image.shape[0] * test_image.shape[1]))\n",
    "\n",
    "# Предсказание заданного изображения обученной моделью\n",
    "print(test_image.shape)\n",
    "image = np.reshape(test_image, (-1, 1))\n",
    "\n",
    "print(image.shape)\n",
    "linear_output= np.dot(perceptron.weights.T,image)\n",
    "print(linear_output)\n",
    "output = perceptron.activation(linear_output.T)\n",
    "\n",
    "#print(output)\n",
    "plt.imshow(test_image.reshape(28, 28), cmap=\"Greys\")\n",
    "plt.title(f\"NN suggests the CUSTOM number is: {output.argmax()}\")\n",
    "plt.show()"
   ]
  }
 ],
 "metadata": {
  "kernelspec": {
   "display_name": "Python 3 (ipykernel)",
   "language": "python",
   "name": "python3"
  },
  "language_info": {
   "codemirror_mode": {
    "name": "ipython",
    "version": 3
   },
   "file_extension": ".py",
   "mimetype": "text/x-python",
   "name": "python",
   "nbconvert_exporter": "python",
   "pygments_lexer": "ipython3",
   "version": "3.11.11"
  }
 },
 "nbformat": 4,
 "nbformat_minor": 5
}
