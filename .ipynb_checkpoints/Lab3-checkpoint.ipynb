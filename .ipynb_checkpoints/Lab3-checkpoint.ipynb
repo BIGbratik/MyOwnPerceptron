{
 "cells": [
  {
   "cell_type": "code",
   "execution_count": 1,
   "id": "5d2b1080-0561-4574-82d0-0dfa9c45b140",
   "metadata": {},
   "outputs": [],
   "source": [
    "from tensorflow.keras.datasets import mnist\n",
    "from tensorflow.keras.models import Sequential\n",
    "from tensorflow.keras.layers import Dense\n",
    "from tensorflow.keras.utils import to_categorical\n",
    "from tensorflow.keras.layers import Conv2D, MaxPooling2D, Flatten\n",
    "import numpy as np"
   ]
  },
  {
   "cell_type": "code",
   "execution_count": 3,
   "id": "1070c8c8-8016-4d15-80c4-52f18eabdaaf",
   "metadata": {},
   "outputs": [],
   "source": [
    "# Подготовка данных\n",
    "(x_train, y_train), (x_test, y_test) = mnist.load_data()\n",
    "\n",
    "x_train_1d = x_train.reshape(x_train.shape[0], -1) / 255.0\n",
    "x_test_1d = x_test.reshape(x_test.shape[0], -1) / 255.0\n",
    "y_train = to_categorical(y_train)\n",
    "y_test = to_categorical(y_test)\n",
    "\n",
    "x_train_2d = x_train[:,:,:,np.newaxis] / 255.0\n",
    "x_test_2d = x_test[:,:,:,np.newaxis] / 255.0\n",
    "\n",
    "epochs = 10\n",
    "learning_rate = 0.25"
   ]
  },
  {
   "cell_type": "code",
   "execution_count": 5,
   "id": "908fe76b-10ac-4137-b187-e9999169dcbd",
   "metadata": {},
   "outputs": [
    {
     "name": "stdout",
     "output_type": "stream",
     "text": [
      "Epoch 1/10\n"
     ]
    },
    {
     "name": "stderr",
     "output_type": "stream",
     "text": [
      "C:\\Users\\prayD\\anaconda3\\Lib\\site-packages\\keras\\src\\layers\\core\\dense.py:87: UserWarning: Do not pass an `input_shape`/`input_dim` argument to a layer. When using Sequential models, prefer using an `Input(shape)` object as the first layer in the model instead.\n",
      "  super().__init__(activity_regularizer=activity_regularizer, **kwargs)\n"
     ]
    },
    {
     "name": "stdout",
     "output_type": "stream",
     "text": [
      "\u001b[1m1407/1407\u001b[0m \u001b[32m━━━━━━━━━━━━━━━━━━━━\u001b[0m\u001b[37m\u001b[0m \u001b[1m2s\u001b[0m 981us/step - accuracy: 0.7317 - loss: 0.9009 - val_accuracy: 0.9071 - val_loss: 0.3202\n",
      "Epoch 2/10\n",
      "\u001b[1m1407/1407\u001b[0m \u001b[32m━━━━━━━━━━━━━━━━━━━━\u001b[0m\u001b[37m\u001b[0m \u001b[1m1s\u001b[0m 900us/step - accuracy: 0.9084 - loss: 0.3244 - val_accuracy: 0.9216 - val_loss: 0.2746\n",
      "Epoch 3/10\n",
      "\u001b[1m1407/1407\u001b[0m \u001b[32m━━━━━━━━━━━━━━━━━━━━\u001b[0m\u001b[37m\u001b[0m \u001b[1m1s\u001b[0m 927us/step - accuracy: 0.9243 - loss: 0.2649 - val_accuracy: 0.9249 - val_loss: 0.2631\n",
      "Epoch 4/10\n",
      "\u001b[1m1407/1407\u001b[0m \u001b[32m━━━━━━━━━━━━━━━━━━━━\u001b[0m\u001b[37m\u001b[0m \u001b[1m1s\u001b[0m 921us/step - accuracy: 0.9278 - loss: 0.2529 - val_accuracy: 0.9311 - val_loss: 0.2463\n",
      "Epoch 5/10\n",
      "\u001b[1m1407/1407\u001b[0m \u001b[32m━━━━━━━━━━━━━━━━━━━━\u001b[0m\u001b[37m\u001b[0m \u001b[1m1s\u001b[0m 949us/step - accuracy: 0.9324 - loss: 0.2366 - val_accuracy: 0.9315 - val_loss: 0.2389\n",
      "Epoch 6/10\n",
      "\u001b[1m1407/1407\u001b[0m \u001b[32m━━━━━━━━━━━━━━━━━━━━\u001b[0m\u001b[37m\u001b[0m \u001b[1m1s\u001b[0m 955us/step - accuracy: 0.9358 - loss: 0.2230 - val_accuracy: 0.9359 - val_loss: 0.2323\n",
      "Epoch 7/10\n",
      "\u001b[1m1407/1407\u001b[0m \u001b[32m━━━━━━━━━━━━━━━━━━━━\u001b[0m\u001b[37m\u001b[0m \u001b[1m1s\u001b[0m 968us/step - accuracy: 0.9363 - loss: 0.2162 - val_accuracy: 0.9356 - val_loss: 0.2292\n",
      "Epoch 8/10\n",
      "\u001b[1m1407/1407\u001b[0m \u001b[32m━━━━━━━━━━━━━━━━━━━━\u001b[0m\u001b[37m\u001b[0m \u001b[1m1s\u001b[0m 949us/step - accuracy: 0.9417 - loss: 0.2068 - val_accuracy: 0.9367 - val_loss: 0.2326\n",
      "Epoch 9/10\n",
      "\u001b[1m1407/1407\u001b[0m \u001b[32m━━━━━━━━━━━━━━━━━━━━\u001b[0m\u001b[37m\u001b[0m \u001b[1m1s\u001b[0m 924us/step - accuracy: 0.9420 - loss: 0.2012 - val_accuracy: 0.9338 - val_loss: 0.2363\n",
      "Epoch 10/10\n",
      "\u001b[1m1407/1407\u001b[0m \u001b[32m━━━━━━━━━━━━━━━━━━━━\u001b[0m\u001b[37m\u001b[0m \u001b[1m1s\u001b[0m 926us/step - accuracy: 0.9438 - loss: 0.1985 - val_accuracy: 0.9335 - val_loss: 0.2348\n",
      "\u001b[1m313/313\u001b[0m \u001b[32m━━━━━━━━━━━━━━━━━━━━\u001b[0m\u001b[37m\u001b[0m \u001b[1m0s\u001b[0m 642us/step - accuracy: 0.9215 - loss: 0.2547\n",
      "Точность архитектуры №1 -  93.28%\n"
     ]
    }
   ],
   "source": [
    "# Архитектура №1\n",
    "model = Sequential()\n",
    "model.add(Dense(10, input_dim=784, activation='relu'))\n",
    "model.add(Dense(10, activation='softmax'))\n",
    "model.compile(loss='categorical_crossentropy', optimizer='adam',\n",
    "metrics=['accuracy'])\n",
    "model.fit(x_train_1d, y_train, epochs=epochs, validation_split=learning_rate)\n",
    "\n",
    "_, test_acc1 = model.evaluate(x_test_1d, y_test) \n",
    "print(f\"Точность архитектуры №1 - {test_acc1*100: .2f}%\")"
   ]
  },
  {
   "cell_type": "code",
   "execution_count": 7,
   "id": "465d21fe-64c4-48a4-b26e-f6450798ca94",
   "metadata": {},
   "outputs": [
    {
     "name": "stdout",
     "output_type": "stream",
     "text": [
      "Epoch 1/10\n",
      "\u001b[1m1407/1407\u001b[0m \u001b[32m━━━━━━━━━━━━━━━━━━━━\u001b[0m\u001b[37m\u001b[0m \u001b[1m2s\u001b[0m 1ms/step - accuracy: 0.8398 - loss: 0.5778 - val_accuracy: 0.9409 - val_loss: 0.2091\n",
      "Epoch 2/10\n",
      "\u001b[1m1407/1407\u001b[0m \u001b[32m━━━━━━━━━━━━━━━━━━━━\u001b[0m\u001b[37m\u001b[0m \u001b[1m1s\u001b[0m 1ms/step - accuracy: 0.9468 - loss: 0.1880 - val_accuracy: 0.9524 - val_loss: 0.1620\n",
      "Epoch 3/10\n",
      "\u001b[1m1407/1407\u001b[0m \u001b[32m━━━━━━━━━━━━━━━━━━━━\u001b[0m\u001b[37m\u001b[0m \u001b[1m1s\u001b[0m 989us/step - accuracy: 0.9605 - loss: 0.1387 - val_accuracy: 0.9593 - val_loss: 0.1430\n",
      "Epoch 4/10\n",
      "\u001b[1m1407/1407\u001b[0m \u001b[32m━━━━━━━━━━━━━━━━━━━━\u001b[0m\u001b[37m\u001b[0m \u001b[1m1s\u001b[0m 994us/step - accuracy: 0.9677 - loss: 0.1057 - val_accuracy: 0.9622 - val_loss: 0.1283\n",
      "Epoch 5/10\n",
      "\u001b[1m1407/1407\u001b[0m \u001b[32m━━━━━━━━━━━━━━━━━━━━\u001b[0m\u001b[37m\u001b[0m \u001b[1m1s\u001b[0m 1ms/step - accuracy: 0.9753 - loss: 0.0851 - val_accuracy: 0.9652 - val_loss: 0.1185\n",
      "Epoch 6/10\n",
      "\u001b[1m1407/1407\u001b[0m \u001b[32m━━━━━━━━━━━━━━━━━━━━\u001b[0m\u001b[37m\u001b[0m \u001b[1m1s\u001b[0m 994us/step - accuracy: 0.9789 - loss: 0.0735 - val_accuracy: 0.9666 - val_loss: 0.1168\n",
      "Epoch 7/10\n",
      "\u001b[1m1407/1407\u001b[0m \u001b[32m━━━━━━━━━━━━━━━━━━━━\u001b[0m\u001b[37m\u001b[0m \u001b[1m1s\u001b[0m 1ms/step - accuracy: 0.9812 - loss: 0.0626 - val_accuracy: 0.9673 - val_loss: 0.1103\n",
      "Epoch 8/10\n",
      "\u001b[1m1407/1407\u001b[0m \u001b[32m━━━━━━━━━━━━━━━━━━━━\u001b[0m\u001b[37m\u001b[0m \u001b[1m2s\u001b[0m 1ms/step - accuracy: 0.9849 - loss: 0.0529 - val_accuracy: 0.9677 - val_loss: 0.1140\n",
      "Epoch 9/10\n",
      "\u001b[1m1407/1407\u001b[0m \u001b[32m━━━━━━━━━━━━━━━━━━━━\u001b[0m\u001b[37m\u001b[0m \u001b[1m2s\u001b[0m 1ms/step - accuracy: 0.9846 - loss: 0.0499 - val_accuracy: 0.9671 - val_loss: 0.1110\n",
      "Epoch 10/10\n",
      "\u001b[1m1407/1407\u001b[0m \u001b[32m━━━━━━━━━━━━━━━━━━━━\u001b[0m\u001b[37m\u001b[0m \u001b[1m1s\u001b[0m 1ms/step - accuracy: 0.9888 - loss: 0.0401 - val_accuracy: 0.9681 - val_loss: 0.1143\n",
      "\u001b[1m313/313\u001b[0m \u001b[32m━━━━━━━━━━━━━━━━━━━━\u001b[0m\u001b[37m\u001b[0m \u001b[1m0s\u001b[0m 738us/step - accuracy: 0.9672 - loss: 0.1086\n",
      "Точность архитектуры №2 -  97.09%\n"
     ]
    }
   ],
   "source": [
    "# Архитектура №2\n",
    "model2 = Sequential()\n",
    "model2.add(Dense( 50, input_dim=784, activation='relu'))\n",
    "model2.add(Dense(10, activation='softmax'))\n",
    "model2.compile(loss='categorical_crossentropy', optimizer='adam',\n",
    "metrics=['accuracy'])\n",
    "model2.fit(x_train_1d, y_train, epochs=epochs, validation_split=learning_rate)\n",
    "\n",
    "_, test_acc2 = model2.evaluate(x_test_1d, y_test) \n",
    "print(f\"Точность архитектуры №2 - {test_acc2*100: .2f}%\")"
   ]
  },
  {
   "cell_type": "code",
   "execution_count": 9,
   "id": "df2ce45e-628a-422d-a915-24533e811157",
   "metadata": {},
   "outputs": [
    {
     "name": "stdout",
     "output_type": "stream",
     "text": [
      "Epoch 1/10\n",
      "\u001b[1m1407/1407\u001b[0m \u001b[32m━━━━━━━━━━━━━━━━━━━━\u001b[0m\u001b[37m\u001b[0m \u001b[1m2s\u001b[0m 1ms/step - accuracy: 0.8287 - loss: 0.5839 - val_accuracy: 0.9424 - val_loss: 0.2001\n",
      "Epoch 2/10\n",
      "\u001b[1m1407/1407\u001b[0m \u001b[32m━━━━━━━━━━━━━━━━━━━━\u001b[0m\u001b[37m\u001b[0m \u001b[1m2s\u001b[0m 1ms/step - accuracy: 0.9510 - loss: 0.1652 - val_accuracy: 0.9556 - val_loss: 0.1525\n",
      "Epoch 3/10\n",
      "\u001b[1m1407/1407\u001b[0m \u001b[32m━━━━━━━━━━━━━━━━━━━━\u001b[0m\u001b[37m\u001b[0m \u001b[1m2s\u001b[0m 1ms/step - accuracy: 0.9635 - loss: 0.1194 - val_accuracy: 0.9589 - val_loss: 0.1419\n",
      "Epoch 4/10\n",
      "\u001b[1m1407/1407\u001b[0m \u001b[32m━━━━━━━━━━━━━━━━━━━━\u001b[0m\u001b[37m\u001b[0m \u001b[1m2s\u001b[0m 1ms/step - accuracy: 0.9745 - loss: 0.0850 - val_accuracy: 0.9621 - val_loss: 0.1260\n",
      "Epoch 5/10\n",
      "\u001b[1m1407/1407\u001b[0m \u001b[32m━━━━━━━━━━━━━━━━━━━━\u001b[0m\u001b[37m\u001b[0m \u001b[1m1s\u001b[0m 1ms/step - accuracy: 0.9762 - loss: 0.0759 - val_accuracy: 0.9663 - val_loss: 0.1167\n",
      "Epoch 6/10\n",
      "\u001b[1m1407/1407\u001b[0m \u001b[32m━━━━━━━━━━━━━━━━━━━━\u001b[0m\u001b[37m\u001b[0m \u001b[1m1s\u001b[0m 1ms/step - accuracy: 0.9793 - loss: 0.0633 - val_accuracy: 0.9648 - val_loss: 0.1221\n",
      "Epoch 7/10\n",
      "\u001b[1m1407/1407\u001b[0m \u001b[32m━━━━━━━━━━━━━━━━━━━━\u001b[0m\u001b[37m\u001b[0m \u001b[1m2s\u001b[0m 1ms/step - accuracy: 0.9840 - loss: 0.0492 - val_accuracy: 0.9699 - val_loss: 0.1129\n",
      "Epoch 8/10\n",
      "\u001b[1m1407/1407\u001b[0m \u001b[32m━━━━━━━━━━━━━━━━━━━━\u001b[0m\u001b[37m\u001b[0m \u001b[1m1s\u001b[0m 1ms/step - accuracy: 0.9873 - loss: 0.0413 - val_accuracy: 0.9633 - val_loss: 0.1361\n",
      "Epoch 9/10\n",
      "\u001b[1m1407/1407\u001b[0m \u001b[32m━━━━━━━━━━━━━━━━━━━━\u001b[0m\u001b[37m\u001b[0m \u001b[1m2s\u001b[0m 1ms/step - accuracy: 0.9869 - loss: 0.0379 - val_accuracy: 0.9685 - val_loss: 0.1265\n",
      "Epoch 10/10\n",
      "\u001b[1m1407/1407\u001b[0m \u001b[32m━━━━━━━━━━━━━━━━━━━━\u001b[0m\u001b[37m\u001b[0m \u001b[1m2s\u001b[0m 1ms/step - accuracy: 0.9908 - loss: 0.0292 - val_accuracy: 0.9691 - val_loss: 0.1201\n",
      "\u001b[1m313/313\u001b[0m \u001b[32m━━━━━━━━━━━━━━━━━━━━\u001b[0m\u001b[37m\u001b[0m \u001b[1m0s\u001b[0m 714us/step - accuracy: 0.9670 - loss: 0.1135\n",
      "Точность архитектуры №3 -  97.20%\n"
     ]
    }
   ],
   "source": [
    "# Архитектура №3\n",
    "model3 = Sequential()\n",
    "model3.add(Dense(50, input_dim=784, activation='relu'))\n",
    "model3.add(Dense(50, activation='relu'))\n",
    "model3.add(Dense(10, activation='softmax'))\n",
    "model3.compile(loss='categorical_crossentropy', optimizer='adam',\n",
    "metrics=['accuracy'])\n",
    "model3.fit(x_train_1d, y_train, epochs=epochs, validation_split=learning_rate)\n",
    "\n",
    "_, test_acc3 = model3.evaluate(x_test_1d, y_test) \n",
    "print(f\"Точность архитектуры №3 - {test_acc3*100: .2f}%\")"
   ]
  },
  {
   "cell_type": "code",
   "execution_count": 13,
   "id": "ec5e013c-067d-4117-9e1d-6ad9daf6058f",
   "metadata": {},
   "outputs": [
    {
     "name": "stdout",
     "output_type": "stream",
     "text": [
      "Epoch 1/10\n",
      "\u001b[1m1407/1407\u001b[0m \u001b[32m━━━━━━━━━━━━━━━━━━━━\u001b[0m\u001b[37m\u001b[0m \u001b[1m5s\u001b[0m 3ms/step - accuracy: 0.8664 - loss: 0.4729 - val_accuracy: 0.9629 - val_loss: 0.1310\n",
      "Epoch 2/10\n",
      "\u001b[1m1407/1407\u001b[0m \u001b[32m━━━━━━━━━━━━━━━━━━━━\u001b[0m\u001b[37m\u001b[0m \u001b[1m4s\u001b[0m 3ms/step - accuracy: 0.9704 - loss: 0.1042 - val_accuracy: 0.9701 - val_loss: 0.1000\n",
      "Epoch 3/10\n",
      "\u001b[1m1407/1407\u001b[0m \u001b[32m━━━━━━━━━━━━━━━━━━━━\u001b[0m\u001b[37m\u001b[0m \u001b[1m4s\u001b[0m 3ms/step - accuracy: 0.9806 - loss: 0.0704 - val_accuracy: 0.9719 - val_loss: 0.0953\n",
      "Epoch 4/10\n",
      "\u001b[1m1407/1407\u001b[0m \u001b[32m━━━━━━━━━━━━━━━━━━━━\u001b[0m\u001b[37m\u001b[0m \u001b[1m4s\u001b[0m 3ms/step - accuracy: 0.9843 - loss: 0.0538 - val_accuracy: 0.9753 - val_loss: 0.0793\n",
      "Epoch 5/10\n",
      "\u001b[1m1407/1407\u001b[0m \u001b[32m━━━━━━━━━━━━━━━━━━━━\u001b[0m\u001b[37m\u001b[0m \u001b[1m4s\u001b[0m 3ms/step - accuracy: 0.9865 - loss: 0.0459 - val_accuracy: 0.9751 - val_loss: 0.0837\n",
      "Epoch 6/10\n",
      "\u001b[1m1407/1407\u001b[0m \u001b[32m━━━━━━━━━━━━━━━━━━━━\u001b[0m\u001b[37m\u001b[0m \u001b[1m4s\u001b[0m 3ms/step - accuracy: 0.9880 - loss: 0.0423 - val_accuracy: 0.9759 - val_loss: 0.0850\n",
      "Epoch 7/10\n",
      "\u001b[1m1407/1407\u001b[0m \u001b[32m━━━━━━━━━━━━━━━━━━━━\u001b[0m\u001b[37m\u001b[0m \u001b[1m4s\u001b[0m 3ms/step - accuracy: 0.9893 - loss: 0.0356 - val_accuracy: 0.9752 - val_loss: 0.0856\n",
      "Epoch 8/10\n",
      "\u001b[1m1407/1407\u001b[0m \u001b[32m━━━━━━━━━━━━━━━━━━━━\u001b[0m\u001b[37m\u001b[0m \u001b[1m4s\u001b[0m 3ms/step - accuracy: 0.9917 - loss: 0.0294 - val_accuracy: 0.9757 - val_loss: 0.0835\n",
      "Epoch 9/10\n",
      "\u001b[1m1407/1407\u001b[0m \u001b[32m━━━━━━━━━━━━━━━━━━━━\u001b[0m\u001b[37m\u001b[0m \u001b[1m4s\u001b[0m 3ms/step - accuracy: 0.9921 - loss: 0.0269 - val_accuracy: 0.9747 - val_loss: 0.0915\n",
      "Epoch 10/10\n",
      "\u001b[1m1407/1407\u001b[0m \u001b[32m━━━━━━━━━━━━━━━━━━━━\u001b[0m\u001b[37m\u001b[0m \u001b[1m4s\u001b[0m 3ms/step - accuracy: 0.9939 - loss: 0.0222 - val_accuracy: 0.9731 - val_loss: 0.0962\n",
      "\u001b[1m313/313\u001b[0m \u001b[32m━━━━━━━━━━━━━━━━━━━━\u001b[0m\u001b[37m\u001b[0m \u001b[1m0s\u001b[0m 1ms/step - accuracy: 0.9733 - loss: 0.0980 \n",
      "Точность архитектуры №4 -  97.85%\n"
     ]
    }
   ],
   "source": [
    "# Архитектура №4\n",
    "model4 = Sequential()\n",
    "model4.add(Conv2D(filters=64, kernel_size=2, padding='same', activation='relu', input_shape=(28,28, 1)))\n",
    "model4.add(MaxPooling2D(pool_size=2))\n",
    "model4.add(Flatten())\n",
    "model4.add(Dense(10, activation='softmax'))\n",
    "model4.compile(loss='categorical_crossentropy', optimizer='adam',\n",
    "metrics=['accuracy'])\n",
    "model4.fit(x_train_2d, y_train, epochs=epochs, validation_split=learning_rate)\n",
    "\n",
    "_, test_acc4 = model4.evaluate(x_test_2d, y_test) \n",
    "print(f\"Точность архитектуры №4 - {test_acc4*100: .2f}%\")"
   ]
  },
  {
   "cell_type": "code",
   "execution_count": 15,
   "id": "db0d1ea7-e13e-424b-a1b0-5f1933604d1b",
   "metadata": {},
   "outputs": [
    {
     "name": "stdout",
     "output_type": "stream",
     "text": [
      "Epoch 1/10\n",
      "\u001b[1m1407/1407\u001b[0m \u001b[32m━━━━━━━━━━━━━━━━━━━━\u001b[0m\u001b[37m\u001b[0m \u001b[1m3s\u001b[0m 1ms/step - accuracy: 0.1501 - loss: 2.1349 - val_accuracy: 0.3523 - val_loss: 1.6139\n",
      "Epoch 2/10\n",
      "\u001b[1m1407/1407\u001b[0m \u001b[32m━━━━━━━━━━━━━━━━━━━━\u001b[0m\u001b[37m\u001b[0m \u001b[1m2s\u001b[0m 1ms/step - accuracy: 0.4233 - loss: 1.4622 - val_accuracy: 0.5840 - val_loss: 1.1203\n",
      "Epoch 3/10\n",
      "\u001b[1m1407/1407\u001b[0m \u001b[32m━━━━━━━━━━━━━━━━━━━━\u001b[0m\u001b[37m\u001b[0m \u001b[1m2s\u001b[0m 1ms/step - accuracy: 0.5854 - loss: 1.0566 - val_accuracy: 0.6783 - val_loss: 0.8792\n",
      "Epoch 4/10\n",
      "\u001b[1m1407/1407\u001b[0m \u001b[32m━━━━━━━━━━━━━━━━━━━━\u001b[0m\u001b[37m\u001b[0m \u001b[1m2s\u001b[0m 1ms/step - accuracy: 0.6672 - loss: 0.8347 - val_accuracy: 0.6911 - val_loss: 0.7936\n",
      "Epoch 5/10\n",
      "\u001b[1m1407/1407\u001b[0m \u001b[32m━━━━━━━━━━━━━━━━━━━━\u001b[0m\u001b[37m\u001b[0m \u001b[1m2s\u001b[0m 1ms/step - accuracy: 0.6967 - loss: 0.7281 - val_accuracy: 0.7144 - val_loss: 0.6690\n",
      "Epoch 6/10\n",
      "\u001b[1m1407/1407\u001b[0m \u001b[32m━━━━━━━━━━━━━━━━━━━━\u001b[0m\u001b[37m\u001b[0m \u001b[1m2s\u001b[0m 1ms/step - accuracy: 0.8030 - loss: 0.5555 - val_accuracy: 0.9042 - val_loss: 0.3742\n",
      "Epoch 7/10\n",
      "\u001b[1m1407/1407\u001b[0m \u001b[32m━━━━━━━━━━━━━━━━━━━━\u001b[0m\u001b[37m\u001b[0m \u001b[1m2s\u001b[0m 1ms/step - accuracy: 0.9150 - loss: 0.3297 - val_accuracy: 0.9175 - val_loss: 0.3289\n",
      "Epoch 8/10\n",
      "\u001b[1m1407/1407\u001b[0m \u001b[32m━━━━━━━━━━━━━━━━━━━━\u001b[0m\u001b[37m\u001b[0m \u001b[1m2s\u001b[0m 1ms/step - accuracy: 0.9316 - loss: 0.2667 - val_accuracy: 0.9197 - val_loss: 0.3132\n",
      "Epoch 9/10\n",
      "\u001b[1m1407/1407\u001b[0m \u001b[32m━━━━━━━━━━━━━━━━━━━━\u001b[0m\u001b[37m\u001b[0m \u001b[1m2s\u001b[0m 1ms/step - accuracy: 0.9411 - loss: 0.2352 - val_accuracy: 0.9131 - val_loss: 0.3329\n",
      "Epoch 10/10\n",
      "\u001b[1m1407/1407\u001b[0m \u001b[32m━━━━━━━━━━━━━━━━━━━━\u001b[0m\u001b[37m\u001b[0m \u001b[1m2s\u001b[0m 1ms/step - accuracy: 0.9495 - loss: 0.2037 - val_accuracy: 0.9305 - val_loss: 0.2738\n",
      "\u001b[1m313/313\u001b[0m \u001b[32m━━━━━━━━━━━━━━━━━━━━\u001b[0m\u001b[37m\u001b[0m \u001b[1m0s\u001b[0m 645us/step - accuracy: 0.9204 - loss: 0.3114\n",
      "Точность архитектуры №5 -  93.02%\n"
     ]
    }
   ],
   "source": [
    "from tensorflow.keras import initializers\n",
    "\n",
    "# Вариант №2 (3-3-2)\n",
    "\n",
    "model5 = Sequential()\n",
    "#3\n",
    "model5.add(Dense(50, input_dim=784, kernel_initializer=initializers.RandomUniform(minval=-0.3, maxval=0.3), bias_initializer=initializers.RandomUniform(minval=-0.3, maxval=0.3), activation='sigmoid'))\n",
    "model5.add(Dense(50, kernel_initializer=initializers.RandomUniform(minval=-0.3, maxval=0.3), bias_initializer=initializers.RandomUniform(minval=-0.3, maxval=0.3), activation='sigmoid'))\n",
    "model5.add(Dense(10, kernel_initializer=initializers.RandomUniform(minval=-0.3, maxval=0.3), bias_initializer=initializers.RandomUniform(minval=-0.3, maxval=0.3), activation='sigmoid'))\n",
    "#3\n",
    "model5.add(Dense(50, kernel_initializer=initializers.RandomUniform(minval=-0.3, maxval=0.3), bias_initializer=initializers.RandomUniform(minval=-0.3, maxval=0.3), activation='sigmoid'))\n",
    "model5.add(Dense(50, kernel_initializer=initializers.RandomUniform(minval=-0.3, maxval=0.3), bias_initializer=initializers.RandomUniform(minval=-0.3, maxval=0.3), activation='sigmoid'))\n",
    "model5.add(Dense(10, kernel_initializer=initializers.RandomUniform(minval=-0.3, maxval=0.3), bias_initializer=initializers.RandomUniform(minval=-0.3, maxval=0.3), activation='sigmoid'))\n",
    "#2\n",
    "model5.add(Dense( 50, kernel_initializer=initializers.RandomUniform(minval=-0.3, maxval=0.3), bias_initializer=initializers.RandomUniform(minval=-0.3, maxval=0.3), activation='sigmoid'))\n",
    "model5.add(Dense(10, kernel_initializer=initializers.RandomUniform(minval=-0.3, maxval=0.3), bias_initializer=initializers.RandomUniform(minval=-0.3, maxval=0.3), activation='sigmoid'))\n",
    "#Компиляция модели\n",
    "model5.compile(loss='categorical_crossentropy', optimizer='adam', metrics=['accuracy'])\n",
    "model5.fit(x_train_1d, y_train, epochs=epochs, validation_split=learning_rate)\n",
    "\n",
    "\n",
    "_, test_acc5 = model5.evaluate(x_test_1d, y_test) \n",
    "print(f\"Точность архитектуры №5 - {test_acc5*100: .2f}%\")"
   ]
  },
  {
   "cell_type": "code",
   "execution_count": 17,
   "id": "255d394a-de02-4def-9ebc-82fd9891afa3",
   "metadata": {},
   "outputs": [
    {
     "name": "stdout",
     "output_type": "stream",
     "text": [
      "Топ архитектур по точности при заданном кол-во эпох = 10 и скорости обучения = 0.25 - [(4, 97.85), (3, 97.2), (2, 97.09), (1, 93.28), (5, 93.02)]\n"
     ]
    }
   ],
   "source": [
    "# Вывод статистики точности архитектур\n",
    "import math\n",
    "\n",
    "results = {1: round(test_acc1*100,2),\n",
    "          2: round(test_acc2*100,2),\n",
    "          3: round(test_acc3*100,2),\n",
    "          4: round(test_acc4*100,2),\n",
    "          5: round(test_acc5*100,2)}\n",
    "top_results = sorted(results.items(), key=lambda item: item[1], reverse=True) \n",
    "\n",
    "print(f\"Топ архитектур по точности при заданном кол-во эпох = {epochs} и скорости обучения = {learning_rate} - {top_results}\")"
   ]
  }
 ],
 "metadata": {
  "kernelspec": {
   "display_name": "Python 3 (ipykernel)",
   "language": "python",
   "name": "python3"
  },
  "language_info": {
   "codemirror_mode": {
    "name": "ipython",
    "version": 3
   },
   "file_extension": ".py",
   "mimetype": "text/x-python",
   "name": "python",
   "nbconvert_exporter": "python",
   "pygments_lexer": "ipython3",
   "version": "3.11.11"
  }
 },
 "nbformat": 4,
 "nbformat_minor": 5
}
