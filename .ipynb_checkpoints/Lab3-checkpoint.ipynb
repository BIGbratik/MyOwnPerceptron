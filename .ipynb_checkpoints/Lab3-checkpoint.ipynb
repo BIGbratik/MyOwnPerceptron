{
 "cells": [
  {
   "cell_type": "code",
   "execution_count": 7,
   "id": "5d2b1080-0561-4574-82d0-0dfa9c45b140",
   "metadata": {},
   "outputs": [],
   "source": [
    "from tensorflow.keras.datasets import mnist\n",
    "from tensorflow.keras.models import Sequential\n",
    "from tensorflow.keras.layers import Dense\n",
    "from tensorflow.keras.utils import to_categorical\n",
    "from tensorflow.keras.layers import Conv2D, MaxPooling2D, Flatten\n",
    "from tensorflow.keras import optimizers\n",
    "import numpy as np"
   ]
  },
  {
   "cell_type": "code",
   "execution_count": 9,
   "id": "1070c8c8-8016-4d15-80c4-52f18eabdaaf",
   "metadata": {},
   "outputs": [],
   "source": [
    "# Подготовка данных\n",
    "(x_train, y_train), (x_test, y_test) = mnist.load_data()\n",
    "\n",
    "x_train_1d = x_train.reshape(x_train.shape[0], -1) / 255.0\n",
    "x_test_1d = x_test.reshape(x_test.shape[0], -1) / 255.0\n",
    "y_train = to_categorical(y_train)\n",
    "y_test = to_categorical(y_test)\n",
    "\n",
    "x_train_2d = x_train[:,:,:,np.newaxis] / 255.0\n",
    "x_test_2d = x_test[:,:,:,np.newaxis] / 255.0\n",
    "\n",
    "epochs = 10\n",
    "learning_rate = 0.25"
   ]
  },
  {
   "cell_type": "code",
   "execution_count": 11,
   "id": "908fe76b-10ac-4137-b187-e9999169dcbd",
   "metadata": {},
   "outputs": [
    {
     "name": "stdout",
     "output_type": "stream",
     "text": [
      "Epoch 1/10\n",
      "\u001b[1m1688/1688\u001b[0m \u001b[32m━━━━━━━━━━━━━━━━━━━━\u001b[0m\u001b[37m\u001b[0m \u001b[1m2s\u001b[0m 793us/step - accuracy: 0.1015 - loss: 2.5438 - val_accuracy: 0.0978 - val_loss: 2.3341\n",
      "Epoch 2/10\n",
      "\u001b[1m1688/1688\u001b[0m \u001b[32m━━━━━━━━━━━━━━━━━━━━\u001b[0m\u001b[37m\u001b[0m \u001b[1m1s\u001b[0m 738us/step - accuracy: 0.1026 - loss: 2.3326 - val_accuracy: 0.1113 - val_loss: 2.3161\n",
      "Epoch 3/10\n",
      "\u001b[1m1688/1688\u001b[0m \u001b[32m━━━━━━━━━━━━━━━━━━━━\u001b[0m\u001b[37m\u001b[0m \u001b[1m1s\u001b[0m 711us/step - accuracy: 0.1023 - loss: 2.3316 - val_accuracy: 0.0960 - val_loss: 2.3252\n",
      "Epoch 4/10\n",
      "\u001b[1m1688/1688\u001b[0m \u001b[32m━━━━━━━━━━━━━━━━━━━━\u001b[0m\u001b[37m\u001b[0m \u001b[1m1s\u001b[0m 700us/step - accuracy: 0.1001 - loss: 2.3342 - val_accuracy: 0.1045 - val_loss: 2.3512\n",
      "Epoch 5/10\n",
      "\u001b[1m1688/1688\u001b[0m \u001b[32m━━━━━━━━━━━━━━━━━━━━\u001b[0m\u001b[37m\u001b[0m \u001b[1m1s\u001b[0m 705us/step - accuracy: 0.0996 - loss: 2.3347 - val_accuracy: 0.0978 - val_loss: 2.3538\n",
      "Epoch 6/10\n",
      "\u001b[1m1688/1688\u001b[0m \u001b[32m━━━━━━━━━━━━━━━━━━━━\u001b[0m\u001b[37m\u001b[0m \u001b[1m1s\u001b[0m 702us/step - accuracy: 0.1020 - loss: 2.3339 - val_accuracy: 0.0995 - val_loss: 2.3414\n",
      "Epoch 7/10\n",
      "\u001b[1m1688/1688\u001b[0m \u001b[32m━━━━━━━━━━━━━━━━━━━━\u001b[0m\u001b[37m\u001b[0m \u001b[1m1s\u001b[0m 717us/step - accuracy: 0.1020 - loss: 2.3315 - val_accuracy: 0.1045 - val_loss: 2.3508\n",
      "Epoch 8/10\n",
      "\u001b[1m1688/1688\u001b[0m \u001b[32m━━━━━━━━━━━━━━━━━━━━\u001b[0m\u001b[37m\u001b[0m \u001b[1m1s\u001b[0m 752us/step - accuracy: 0.1000 - loss: 2.3314 - val_accuracy: 0.1050 - val_loss: 2.3179\n",
      "Epoch 9/10\n",
      "\u001b[1m1688/1688\u001b[0m \u001b[32m━━━━━━━━━━━━━━━━━━━━\u001b[0m\u001b[37m\u001b[0m \u001b[1m1s\u001b[0m 720us/step - accuracy: 0.0993 - loss: 2.3327 - val_accuracy: 0.0995 - val_loss: 2.3496\n",
      "Epoch 10/10\n",
      "\u001b[1m1688/1688\u001b[0m \u001b[32m━━━━━━━━━━━━━━━━━━━━\u001b[0m\u001b[37m\u001b[0m \u001b[1m1s\u001b[0m 740us/step - accuracy: 0.1007 - loss: 2.3324 - val_accuracy: 0.0960 - val_loss: 2.3261\n",
      "\u001b[1m313/313\u001b[0m \u001b[32m━━━━━━━━━━━━━━━━━━━━\u001b[0m\u001b[37m\u001b[0m \u001b[1m0s\u001b[0m 686us/step - accuracy: 0.1009 - loss: 2.3237\n",
      "Точность архитектуры №1 -  10.09%\n"
     ]
    }
   ],
   "source": [
    "# Архитектура №1\n",
    "model = Sequential()\n",
    "model.add(Dense(10, input_dim=784, activation='relu'))\n",
    "model.add(Dense(10, activation='softmax'))\n",
    "model.compile(loss='categorical_crossentropy', optimizer=optimizers.Adam(learning_rate),\n",
    "metrics=['accuracy'])\n",
    "model.fit(x_train_1d, y_train, epochs=epochs, validation_split=0.1)\n",
    "\n",
    "_, test_acc1 = model.evaluate(x_test_1d, y_test) \n",
    "print(f\"Точность архитектуры №1 - {test_acc1*100: .2f}%\")"
   ]
  },
  {
   "cell_type": "code",
   "execution_count": 13,
   "id": "465d21fe-64c4-48a4-b26e-f6450798ca94",
   "metadata": {},
   "outputs": [
    {
     "name": "stdout",
     "output_type": "stream",
     "text": [
      "Epoch 1/10\n",
      "\u001b[1m1688/1688\u001b[0m \u001b[32m━━━━━━━━━━━━━━━━━━━━\u001b[0m\u001b[37m\u001b[0m \u001b[1m2s\u001b[0m 883us/step - accuracy: 0.1662 - loss: 2.8430 - val_accuracy: 0.1318 - val_loss: 2.2450\n",
      "Epoch 2/10\n",
      "\u001b[1m1688/1688\u001b[0m \u001b[32m━━━━━━━━━━━━━━━━━━━━\u001b[0m\u001b[37m\u001b[0m \u001b[1m1s\u001b[0m 817us/step - accuracy: 0.1234 - loss: 2.2774 - val_accuracy: 0.1077 - val_loss: 2.3071\n",
      "Epoch 3/10\n",
      "\u001b[1m1688/1688\u001b[0m \u001b[32m━━━━━━━━━━━━━━━━━━━━\u001b[0m\u001b[37m\u001b[0m \u001b[1m1s\u001b[0m 815us/step - accuracy: 0.1178 - loss: 2.2929 - val_accuracy: 0.1213 - val_loss: 2.2496\n",
      "Epoch 4/10\n",
      "\u001b[1m1688/1688\u001b[0m \u001b[32m━━━━━━━━━━━━━━━━━━━━\u001b[0m\u001b[37m\u001b[0m \u001b[1m1s\u001b[0m 801us/step - accuracy: 0.1391 - loss: 2.3466 - val_accuracy: 0.1213 - val_loss: 2.3300\n",
      "Epoch 5/10\n",
      "\u001b[1m1688/1688\u001b[0m \u001b[32m━━━━━━━━━━━━━━━━━━━━\u001b[0m\u001b[37m\u001b[0m \u001b[1m1s\u001b[0m 790us/step - accuracy: 0.1397 - loss: 2.2775 - val_accuracy: 0.1325 - val_loss: 2.2431\n",
      "Epoch 6/10\n",
      "\u001b[1m1688/1688\u001b[0m \u001b[32m━━━━━━━━━━━━━━━━━━━━\u001b[0m\u001b[37m\u001b[0m \u001b[1m1s\u001b[0m 767us/step - accuracy: 0.1432 - loss: 2.2230 - val_accuracy: 0.1050 - val_loss: 2.2750\n",
      "Epoch 7/10\n",
      "\u001b[1m1688/1688\u001b[0m \u001b[32m━━━━━━━━━━━━━━━━━━━━\u001b[0m\u001b[37m\u001b[0m \u001b[1m1s\u001b[0m 797us/step - accuracy: 0.1396 - loss: 2.2973 - val_accuracy: 0.1320 - val_loss: 2.2485\n",
      "Epoch 8/10\n",
      "\u001b[1m1688/1688\u001b[0m \u001b[32m━━━━━━━━━━━━━━━━━━━━\u001b[0m\u001b[37m\u001b[0m \u001b[1m1s\u001b[0m 775us/step - accuracy: 0.1530 - loss: 2.2407 - val_accuracy: 0.1270 - val_loss: 2.2683\n",
      "Epoch 9/10\n",
      "\u001b[1m1688/1688\u001b[0m \u001b[32m━━━━━━━━━━━━━━━━━━━━\u001b[0m\u001b[37m\u001b[0m \u001b[1m1s\u001b[0m 787us/step - accuracy: 0.1447 - loss: 2.2281 - val_accuracy: 0.1482 - val_loss: 2.2708\n",
      "Epoch 10/10\n",
      "\u001b[1m1688/1688\u001b[0m \u001b[32m━━━━━━━━━━━━━━━━━━━━\u001b[0m\u001b[37m\u001b[0m \u001b[1m1s\u001b[0m 784us/step - accuracy: 0.1471 - loss: 2.2132 - val_accuracy: 0.1355 - val_loss: 2.2290\n",
      "\u001b[1m313/313\u001b[0m \u001b[32m━━━━━━━━━━━━━━━━━━━━\u001b[0m\u001b[37m\u001b[0m \u001b[1m0s\u001b[0m 694us/step - accuracy: 0.1603 - loss: 2.1804\n",
      "Точность архитектуры №2 -  14.59%\n"
     ]
    }
   ],
   "source": [
    "# Архитектура №2\n",
    "model2 = Sequential()\n",
    "model2.add(Dense( 50, input_dim=784, activation='relu'))\n",
    "model2.add(Dense(10, activation='softmax'))\n",
    "model2.compile(loss='categorical_crossentropy', optimizer=optimizers.Adam(learning_rate),\n",
    "metrics=['accuracy'])\n",
    "model2.fit(x_train_1d, y_train, epochs=epochs, validation_split=0.1)\n",
    "\n",
    "_, test_acc2 = model2.evaluate(x_test_1d, y_test) \n",
    "print(f\"Точность архитектуры №2 - {test_acc2*100: .2f}%\")"
   ]
  },
  {
   "cell_type": "code",
   "execution_count": 15,
   "id": "df2ce45e-628a-422d-a915-24533e811157",
   "metadata": {},
   "outputs": [
    {
     "name": "stdout",
     "output_type": "stream",
     "text": [
      "Epoch 1/10\n",
      "\u001b[1m1688/1688\u001b[0m \u001b[32m━━━━━━━━━━━━━━━━━━━━\u001b[0m\u001b[37m\u001b[0m \u001b[1m2s\u001b[0m 928us/step - accuracy: 0.1226 - loss: 4.8873 - val_accuracy: 0.1050 - val_loss: 2.3346\n",
      "Epoch 2/10\n",
      "\u001b[1m1688/1688\u001b[0m \u001b[32m━━━━━━━━━━━━━━━━━━━━\u001b[0m\u001b[37m\u001b[0m \u001b[1m1s\u001b[0m 847us/step - accuracy: 0.1001 - loss: 2.3317 - val_accuracy: 0.1113 - val_loss: 2.3287\n",
      "Epoch 3/10\n",
      "\u001b[1m1688/1688\u001b[0m \u001b[32m━━━━━━━━━━━━━━━━━━━━\u001b[0m\u001b[37m\u001b[0m \u001b[1m1s\u001b[0m 837us/step - accuracy: 0.1007 - loss: 2.3321 - val_accuracy: 0.0995 - val_loss: 2.3347\n",
      "Epoch 4/10\n",
      "\u001b[1m1688/1688\u001b[0m \u001b[32m━━━━━━━━━━━━━━━━━━━━\u001b[0m\u001b[37m\u001b[0m \u001b[1m1s\u001b[0m 854us/step - accuracy: 0.1022 - loss: 2.3314 - val_accuracy: 0.1050 - val_loss: 2.3698\n",
      "Epoch 5/10\n",
      "\u001b[1m1688/1688\u001b[0m \u001b[32m━━━━━━━━━━━━━━━━━━━━\u001b[0m\u001b[37m\u001b[0m \u001b[1m1s\u001b[0m 837us/step - accuracy: 0.1029 - loss: 2.3333 - val_accuracy: 0.0995 - val_loss: 2.3471\n",
      "Epoch 6/10\n",
      "\u001b[1m1688/1688\u001b[0m \u001b[32m━━━━━━━━━━━━━━━━━━━━\u001b[0m\u001b[37m\u001b[0m \u001b[1m2s\u001b[0m 901us/step - accuracy: 0.1038 - loss: 2.3329 - val_accuracy: 0.0995 - val_loss: 2.3255\n",
      "Epoch 7/10\n",
      "\u001b[1m1688/1688\u001b[0m \u001b[32m━━━━━━━━━━━━━━━━━━━━\u001b[0m\u001b[37m\u001b[0m \u001b[1m1s\u001b[0m 851us/step - accuracy: 0.1023 - loss: 2.3302 - val_accuracy: 0.1113 - val_loss: 2.3408\n",
      "Epoch 8/10\n",
      "\u001b[1m1688/1688\u001b[0m \u001b[32m━━━━━━━━━━━━━━━━━━━━\u001b[0m\u001b[37m\u001b[0m \u001b[1m1s\u001b[0m 849us/step - accuracy: 0.0998 - loss: 2.3365 - val_accuracy: 0.1000 - val_loss: 2.3264\n",
      "Epoch 9/10\n",
      "\u001b[1m1688/1688\u001b[0m \u001b[32m━━━━━━━━━━━━━━━━━━━━\u001b[0m\u001b[37m\u001b[0m \u001b[1m1s\u001b[0m 854us/step - accuracy: 0.1032 - loss: 2.3315 - val_accuracy: 0.0978 - val_loss: 2.3460\n",
      "Epoch 10/10\n",
      "\u001b[1m1688/1688\u001b[0m \u001b[32m━━━━━━━━━━━━━━━━━━━━\u001b[0m\u001b[37m\u001b[0m \u001b[1m1s\u001b[0m 851us/step - accuracy: 0.1029 - loss: 2.3337 - val_accuracy: 0.1050 - val_loss: 2.3404\n",
      "\u001b[1m313/313\u001b[0m \u001b[32m━━━━━━━━━━━━━━━━━━━━\u001b[0m\u001b[37m\u001b[0m \u001b[1m0s\u001b[0m 659us/step - accuracy: 0.1160 - loss: 2.3393\n",
      "Точность архитектуры №3 -  11.35%\n"
     ]
    }
   ],
   "source": [
    "# Архитектура №3\n",
    "model3 = Sequential()\n",
    "model3.add(Dense(50, input_dim=784, activation='relu'))\n",
    "model3.add(Dense(50, activation='relu'))\n",
    "model3.add(Dense(10, activation='softmax'))\n",
    "model3.compile(loss='categorical_crossentropy', optimizer=optimizers.Adam(learning_rate),\n",
    "metrics=['accuracy'])\n",
    "model3.fit(x_train_1d, y_train, epochs=epochs, validation_split=0.1)\n",
    "\n",
    "_, test_acc3 = model3.evaluate(x_test_1d, y_test) \n",
    "print(f\"Точность архитектуры №3 - {test_acc3*100: .2f}%\")"
   ]
  },
  {
   "cell_type": "code",
   "execution_count": 17,
   "id": "ec5e013c-067d-4117-9e1d-6ad9daf6058f",
   "metadata": {},
   "outputs": [
    {
     "name": "stdout",
     "output_type": "stream",
     "text": [
      "Epoch 1/10\n"
     ]
    },
    {
     "name": "stderr",
     "output_type": "stream",
     "text": [
      "C:\\Users\\prayD\\anaconda3\\Lib\\site-packages\\keras\\src\\layers\\convolutional\\base_conv.py:107: UserWarning: Do not pass an `input_shape`/`input_dim` argument to a layer. When using Sequential models, prefer using an `Input(shape)` object as the first layer in the model instead.\n",
      "  super().__init__(activity_regularizer=activity_regularizer, **kwargs)\n"
     ]
    },
    {
     "name": "stdout",
     "output_type": "stream",
     "text": [
      "\u001b[1m1688/1688\u001b[0m \u001b[32m━━━━━━━━━━━━━━━━━━━━\u001b[0m\u001b[37m\u001b[0m \u001b[1m5s\u001b[0m 3ms/step - accuracy: 0.1024 - loss: 3.7395 - val_accuracy: 0.1113 - val_loss: 2.3370\n",
      "Epoch 2/10\n",
      "\u001b[1m1688/1688\u001b[0m \u001b[32m━━━━━━━━━━━━━━━━━━━━\u001b[0m\u001b[37m\u001b[0m \u001b[1m5s\u001b[0m 3ms/step - accuracy: 0.0998 - loss: 2.3340 - val_accuracy: 0.1113 - val_loss: 2.3193\n",
      "Epoch 3/10\n",
      "\u001b[1m1688/1688\u001b[0m \u001b[32m━━━━━━━━━━━━━━━━━━━━\u001b[0m\u001b[37m\u001b[0m \u001b[1m5s\u001b[0m 3ms/step - accuracy: 0.1012 - loss: 2.3329 - val_accuracy: 0.0992 - val_loss: 2.3299\n",
      "Epoch 4/10\n",
      "\u001b[1m1688/1688\u001b[0m \u001b[32m━━━━━━━━━━━━━━━━━━━━\u001b[0m\u001b[37m\u001b[0m \u001b[1m5s\u001b[0m 3ms/step - accuracy: 0.1042 - loss: 2.3316 - val_accuracy: 0.1050 - val_loss: 2.3285\n",
      "Epoch 5/10\n",
      "\u001b[1m1688/1688\u001b[0m \u001b[32m━━━━━━━━━━━━━━━━━━━━\u001b[0m\u001b[37m\u001b[0m \u001b[1m5s\u001b[0m 3ms/step - accuracy: 0.0996 - loss: 2.3345 - val_accuracy: 0.1113 - val_loss: 2.3151\n",
      "Epoch 6/10\n",
      "\u001b[1m1688/1688\u001b[0m \u001b[32m━━━━━━━━━━━━━━━━━━━━\u001b[0m\u001b[37m\u001b[0m \u001b[1m5s\u001b[0m 3ms/step - accuracy: 0.1012 - loss: 2.3330 - val_accuracy: 0.0995 - val_loss: 2.3388\n",
      "Epoch 7/10\n",
      "\u001b[1m1688/1688\u001b[0m \u001b[32m━━━━━━━━━━━━━━━━━━━━\u001b[0m\u001b[37m\u001b[0m \u001b[1m5s\u001b[0m 3ms/step - accuracy: 0.1036 - loss: 2.3307 - val_accuracy: 0.0995 - val_loss: 2.3307\n",
      "Epoch 8/10\n",
      "\u001b[1m1688/1688\u001b[0m \u001b[32m━━━━━━━━━━━━━━━━━━━━\u001b[0m\u001b[37m\u001b[0m \u001b[1m5s\u001b[0m 3ms/step - accuracy: 0.1032 - loss: 2.3323 - val_accuracy: 0.1050 - val_loss: 2.3113\n",
      "Epoch 9/10\n",
      "\u001b[1m1688/1688\u001b[0m \u001b[32m━━━━━━━━━━━━━━━━━━━━\u001b[0m\u001b[37m\u001b[0m \u001b[1m5s\u001b[0m 3ms/step - accuracy: 0.1009 - loss: 2.3342 - val_accuracy: 0.1113 - val_loss: 2.3162\n",
      "Epoch 10/10\n",
      "\u001b[1m1688/1688\u001b[0m \u001b[32m━━━━━━━━━━━━━━━━━━━━\u001b[0m\u001b[37m\u001b[0m \u001b[1m5s\u001b[0m 3ms/step - accuracy: 0.1057 - loss: 2.3313 - val_accuracy: 0.0952 - val_loss: 2.3351\n",
      "\u001b[1m313/313\u001b[0m \u001b[32m━━━━━━━━━━━━━━━━━━━━\u001b[0m\u001b[37m\u001b[0m \u001b[1m0s\u001b[0m 1ms/step - accuracy: 0.0921 - loss: 2.3375 \n",
      "Точность архитектуры №4 -  9.58%\n"
     ]
    }
   ],
   "source": [
    "# Архитектура №4\n",
    "model4 = Sequential()\n",
    "model4.add(Conv2D(filters=64, kernel_size=2, padding='same', activation='relu', input_shape=(28,28, 1)))\n",
    "model4.add(MaxPooling2D(pool_size=2))\n",
    "model4.add(Flatten())\n",
    "model4.add(Dense(10, activation='softmax'))\n",
    "model4.compile(loss='categorical_crossentropy', optimizer=optimizers.Adam(learning_rate),\n",
    "metrics=['accuracy'])\n",
    "model4.fit(x_train_2d, y_train, epochs=epochs, validation_split=0.1)\n",
    "\n",
    "_, test_acc4 = model4.evaluate(x_test_2d, y_test) \n",
    "print(f\"Точность архитектуры №4 - {test_acc4*100: .2f}%\")"
   ]
  },
  {
   "cell_type": "code",
   "execution_count": 19,
   "id": "db0d1ea7-e13e-424b-a1b0-5f1933604d1b",
   "metadata": {},
   "outputs": [
    {
     "name": "stdout",
     "output_type": "stream",
     "text": [
      "Epoch 1/10\n",
      "\u001b[1m1688/1688\u001b[0m \u001b[32m━━━━━━━━━━━━━━━━━━━━\u001b[0m\u001b[37m\u001b[0m \u001b[1m3s\u001b[0m 979us/step - accuracy: 0.1002 - loss: 2.3725 - val_accuracy: 0.0915 - val_loss: 2.3221\n",
      "Epoch 2/10\n",
      "\u001b[1m1688/1688\u001b[0m \u001b[32m━━━━━━━━━━━━━━━━━━━━\u001b[0m\u001b[37m\u001b[0m \u001b[1m2s\u001b[0m 896us/step - accuracy: 0.1030 - loss: 2.3337 - val_accuracy: 0.1050 - val_loss: 2.3397\n",
      "Epoch 3/10\n",
      "\u001b[1m1688/1688\u001b[0m \u001b[32m━━━━━━━━━━━━━━━━━━━━\u001b[0m\u001b[37m\u001b[0m \u001b[1m1s\u001b[0m 868us/step - accuracy: 0.1009 - loss: 2.3314 - val_accuracy: 0.1113 - val_loss: 2.3179\n",
      "Epoch 4/10\n",
      "\u001b[1m1688/1688\u001b[0m \u001b[32m━━━━━━━━━━━━━━━━━━━━\u001b[0m\u001b[37m\u001b[0m \u001b[1m1s\u001b[0m 867us/step - accuracy: 0.1031 - loss: 2.3311 - val_accuracy: 0.1113 - val_loss: 2.3086\n",
      "Epoch 5/10\n",
      "\u001b[1m1688/1688\u001b[0m \u001b[32m━━━━━━━━━━━━━━━━━━━━\u001b[0m\u001b[37m\u001b[0m \u001b[1m1s\u001b[0m 869us/step - accuracy: 0.1042 - loss: 2.3324 - val_accuracy: 0.0952 - val_loss: 2.3374\n",
      "Epoch 6/10\n",
      "\u001b[1m1688/1688\u001b[0m \u001b[32m━━━━━━━━━━━━━━━━━━━━\u001b[0m\u001b[37m\u001b[0m \u001b[1m2s\u001b[0m 881us/step - accuracy: 0.1040 - loss: 2.3324 - val_accuracy: 0.1050 - val_loss: 2.3709\n",
      "Epoch 7/10\n",
      "\u001b[1m1688/1688\u001b[0m \u001b[32m━━━━━━━━━━━━━━━━━━━━\u001b[0m\u001b[37m\u001b[0m \u001b[1m2s\u001b[0m 907us/step - accuracy: 0.0991 - loss: 2.3338 - val_accuracy: 0.1113 - val_loss: 2.3467\n",
      "Epoch 8/10\n",
      "\u001b[1m1688/1688\u001b[0m \u001b[32m━━━━━━━━━━━━━━━━━━━━\u001b[0m\u001b[37m\u001b[0m \u001b[1m2s\u001b[0m 898us/step - accuracy: 0.1018 - loss: 2.3310 - val_accuracy: 0.1113 - val_loss: 2.3045\n",
      "Epoch 9/10\n",
      "\u001b[1m1688/1688\u001b[0m \u001b[32m━━━━━━━━━━━━━━━━━━━━\u001b[0m\u001b[37m\u001b[0m \u001b[1m2s\u001b[0m 911us/step - accuracy: 0.1012 - loss: 2.3313 - val_accuracy: 0.1000 - val_loss: 2.3530\n",
      "Epoch 10/10\n",
      "\u001b[1m1688/1688\u001b[0m \u001b[32m━━━━━━━━━━━━━━━━━━━━\u001b[0m\u001b[37m\u001b[0m \u001b[1m2s\u001b[0m 909us/step - accuracy: 0.1059 - loss: 2.3318 - val_accuracy: 0.0952 - val_loss: 2.3367\n",
      "\u001b[1m313/313\u001b[0m \u001b[32m━━━━━━━━━━━━━━━━━━━━\u001b[0m\u001b[37m\u001b[0m \u001b[1m0s\u001b[0m 645us/step - accuracy: 0.0921 - loss: 2.3334\n",
      "Точность архитектуры №5 -  9.58%\n"
     ]
    }
   ],
   "source": [
    "from tensorflow.keras import initializers\n",
    "\n",
    "# Вариант №2 (3-3-2)\n",
    "\n",
    "model5 = Sequential()\n",
    "#3\n",
    "model5.add(Dense(50, input_dim=784, kernel_initializer=initializers.RandomUniform(minval=-0.3, maxval=0.3), bias_initializer=initializers.RandomUniform(minval=-0.3, maxval=0.3), activation='sigmoid'))\n",
    "model5.add(Dense(50, kernel_initializer=initializers.RandomUniform(minval=-0.3, maxval=0.3), bias_initializer=initializers.RandomUniform(minval=-0.3, maxval=0.3), activation='sigmoid'))\n",
    "model5.add(Dense(10, kernel_initializer=initializers.RandomUniform(minval=-0.3, maxval=0.3), bias_initializer=initializers.RandomUniform(minval=-0.3, maxval=0.3), activation='sigmoid'))\n",
    "#3\n",
    "model5.add(Dense(50, kernel_initializer=initializers.RandomUniform(minval=-0.3, maxval=0.3), bias_initializer=initializers.RandomUniform(minval=-0.3, maxval=0.3), activation='sigmoid'))\n",
    "model5.add(Dense(50, kernel_initializer=initializers.RandomUniform(minval=-0.3, maxval=0.3), bias_initializer=initializers.RandomUniform(minval=-0.3, maxval=0.3), activation='sigmoid'))\n",
    "model5.add(Dense(10, kernel_initializer=initializers.RandomUniform(minval=-0.3, maxval=0.3), bias_initializer=initializers.RandomUniform(minval=-0.3, maxval=0.3), activation='sigmoid'))\n",
    "#2\n",
    "model5.add(Dense( 50, kernel_initializer=initializers.RandomUniform(minval=-0.3, maxval=0.3), bias_initializer=initializers.RandomUniform(minval=-0.3, maxval=0.3), activation='sigmoid'))\n",
    "model5.add(Dense(10, kernel_initializer=initializers.RandomUniform(minval=-0.3, maxval=0.3), bias_initializer=initializers.RandomUniform(minval=-0.3, maxval=0.3), activation='sigmoid'))\n",
    "#Компиляция модели\n",
    "model5.compile(loss='categorical_crossentropy', optimizer=optimizers.Adam(learning_rate), metrics=['accuracy'])\n",
    "model5.fit(x_train_1d, y_train, epochs=epochs, validation_split=0.1)\n",
    "\n",
    "\n",
    "_, test_acc5 = model5.evaluate(x_test_1d, y_test) \n",
    "print(f\"Точность архитектуры №5 - {test_acc5*100: .2f}%\")"
   ]
  },
  {
   "cell_type": "code",
   "execution_count": 21,
   "id": "255d394a-de02-4def-9ebc-82fd9891afa3",
   "metadata": {},
   "outputs": [
    {
     "name": "stdout",
     "output_type": "stream",
     "text": [
      "Топ архитектур по точности при заданном кол-во эпох = 10 и скорости обучения = 0.25 - [(2, 14.59), (3, 11.35), (1, 10.09), (4, 9.58), (5, 9.58)]\n"
     ]
    }
   ],
   "source": [
    "# Вывод статистики точности архитектур\n",
    "import math\n",
    "\n",
    "results = {1: round(test_acc1*100,2),\n",
    "          2: round(test_acc2*100,2),\n",
    "          3: round(test_acc3*100,2),\n",
    "          4: round(test_acc4*100,2),\n",
    "          5: round(test_acc5*100,2)}\n",
    "top_results = sorted(results.items(), key=lambda item: item[1], reverse=True) \n",
    "\n",
    "print(f\"Топ архитектур по точности при заданном кол-во эпох = {epochs} и скорости обучения = {learning_rate} - {top_results}\")"
   ]
  }
 ],
 "metadata": {
  "kernelspec": {
   "display_name": "Python 3 (ipykernel)",
   "language": "python",
   "name": "python3"
  },
  "language_info": {
   "codemirror_mode": {
    "name": "ipython",
    "version": 3
   },
   "file_extension": ".py",
   "mimetype": "text/x-python",
   "name": "python",
   "nbconvert_exporter": "python",
   "pygments_lexer": "ipython3",
   "version": "3.11.11"
  }
 },
 "nbformat": 4,
 "nbformat_minor": 5
}
