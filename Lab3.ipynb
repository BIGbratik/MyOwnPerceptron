{
 "cells": [
  {
   "cell_type": "code",
   "execution_count": 1,
   "id": "5d2b1080-0561-4574-82d0-0dfa9c45b140",
   "metadata": {},
   "outputs": [],
   "source": [
    "from tensorflow.keras.datasets import fashion_mnist\n",
    "from tensorflow.keras.models import Sequential\n",
    "from tensorflow.keras.layers import Dense\n",
    "from tensorflow.keras.utils import to_categorical\n",
    "from tensorflow.keras.layers import Conv2D, MaxPooling2D, Flatten\n",
    "import numpy as np"
   ]
  },
  {
   "cell_type": "code",
   "execution_count": 3,
   "id": "1070c8c8-8016-4d15-80c4-52f18eabdaaf",
   "metadata": {},
   "outputs": [],
   "source": [
    "# Подготовка данных\n",
    "(x_train, y_train), (x_test, y_test) = fashion_mnist.load_data()\n",
    "\n",
    "x_train_1d = x_train.reshape(x_train.shape[0], -1) / 255.0\n",
    "x_test_1d = x_test.reshape(x_test.shape[0], -1) / 255.0\n",
    "y_train = to_categorical(y_train)\n",
    "y_test = to_categorical(y_test)\n",
    "\n",
    "x_train_2d = x_train[:,:,:,np.newaxis] / 255.0\n",
    "x_test_2d = x_test[:,:,:,np.newaxis] / 255.0\n",
    "\n",
    "epochs = 10\n",
    "learning_rate = 0.25"
   ]
  },
  {
   "cell_type": "code",
   "execution_count": 5,
   "id": "908fe76b-10ac-4137-b187-e9999169dcbd",
   "metadata": {},
   "outputs": [
    {
     "name": "stdout",
     "output_type": "stream",
     "text": [
      "Epoch 1/10\n"
     ]
    },
    {
     "name": "stderr",
     "output_type": "stream",
     "text": [
      "C:\\Users\\prayD\\anaconda3\\Lib\\site-packages\\keras\\src\\layers\\core\\dense.py:87: UserWarning: Do not pass an `input_shape`/`input_dim` argument to a layer. When using Sequential models, prefer using an `Input(shape)` object as the first layer in the model instead.\n",
      "  super().__init__(activity_regularizer=activity_regularizer, **kwargs)\n"
     ]
    },
    {
     "name": "stdout",
     "output_type": "stream",
     "text": [
      "\u001b[1m1407/1407\u001b[0m \u001b[32m━━━━━━━━━━━━━━━━━━━━\u001b[0m\u001b[37m\u001b[0m \u001b[1m2s\u001b[0m 933us/step - accuracy: 0.6584 - loss: 1.0224 - val_accuracy: 0.8087 - val_loss: 0.5495\n",
      "Epoch 2/10\n",
      "\u001b[1m1407/1407\u001b[0m \u001b[32m━━━━━━━━━━━━━━━━━━━━\u001b[0m\u001b[37m\u001b[0m \u001b[1m1s\u001b[0m 882us/step - accuracy: 0.8270 - loss: 0.5093 - val_accuracy: 0.8371 - val_loss: 0.4694\n",
      "Epoch 3/10\n",
      "\u001b[1m1407/1407\u001b[0m \u001b[32m━━━━━━━━━━━━━━━━━━━━\u001b[0m\u001b[37m\u001b[0m \u001b[1m1s\u001b[0m 930us/step - accuracy: 0.8426 - loss: 0.4528 - val_accuracy: 0.8400 - val_loss: 0.4530\n",
      "Epoch 4/10\n",
      "\u001b[1m1407/1407\u001b[0m \u001b[32m━━━━━━━━━━━━━━━━━━━━\u001b[0m\u001b[37m\u001b[0m \u001b[1m1s\u001b[0m 936us/step - accuracy: 0.8497 - loss: 0.4297 - val_accuracy: 0.8433 - val_loss: 0.4562\n",
      "Epoch 5/10\n",
      "\u001b[1m1407/1407\u001b[0m \u001b[32m━━━━━━━━━━━━━━━━━━━━\u001b[0m\u001b[37m\u001b[0m \u001b[1m1s\u001b[0m 977us/step - accuracy: 0.8553 - loss: 0.4140 - val_accuracy: 0.8531 - val_loss: 0.4241\n",
      "Epoch 6/10\n",
      "\u001b[1m1407/1407\u001b[0m \u001b[32m━━━━━━━━━━━━━━━━━━━━\u001b[0m\u001b[37m\u001b[0m \u001b[1m1s\u001b[0m 990us/step - accuracy: 0.8586 - loss: 0.4104 - val_accuracy: 0.8465 - val_loss: 0.4338\n",
      "Epoch 7/10\n",
      "\u001b[1m1407/1407\u001b[0m \u001b[32m━━━━━━━━━━━━━━━━━━━━\u001b[0m\u001b[37m\u001b[0m \u001b[1m1s\u001b[0m 987us/step - accuracy: 0.8603 - loss: 0.3929 - val_accuracy: 0.8565 - val_loss: 0.4182\n",
      "Epoch 8/10\n",
      "\u001b[1m1407/1407\u001b[0m \u001b[32m━━━━━━━━━━━━━━━━━━━━\u001b[0m\u001b[37m\u001b[0m \u001b[1m1s\u001b[0m 917us/step - accuracy: 0.8617 - loss: 0.4008 - val_accuracy: 0.8473 - val_loss: 0.4315\n",
      "Epoch 9/10\n",
      "\u001b[1m1407/1407\u001b[0m \u001b[32m━━━━━━━━━━━━━━━━━━━━\u001b[0m\u001b[37m\u001b[0m \u001b[1m1s\u001b[0m 905us/step - accuracy: 0.8656 - loss: 0.3843 - val_accuracy: 0.8557 - val_loss: 0.4073\n",
      "Epoch 10/10\n",
      "\u001b[1m1407/1407\u001b[0m \u001b[32m━━━━━━━━━━━━━━━━━━━━\u001b[0m\u001b[37m\u001b[0m \u001b[1m1s\u001b[0m 893us/step - accuracy: 0.8671 - loss: 0.3803 - val_accuracy: 0.8510 - val_loss: 0.4264\n",
      "\u001b[1m313/313\u001b[0m \u001b[32m━━━━━━━━━━━━━━━━━━━━\u001b[0m\u001b[37m\u001b[0m \u001b[1m0s\u001b[0m 655us/step - accuracy: 0.8425 - loss: 0.4531\n",
      "Точность архитектуры №1 -  83.93%\n"
     ]
    }
   ],
   "source": [
    "# Архитектура №1\n",
    "model = Sequential()\n",
    "model.add(Dense(10, input_dim=784, activation='relu'))\n",
    "model.add(Dense(10, activation='softmax'))\n",
    "model.compile(loss='categorical_crossentropy', optimizer='adam',\n",
    "metrics=['accuracy'])\n",
    "model.fit(x_train_1d, y_train, epochs=epochs, validation_split=learning_rate)\n",
    "\n",
    "_, test_acc1 = model.evaluate(x_test_1d, y_test) \n",
    "print(f\"Точность архитектуры №1 - {test_acc1*100: .2f}%\")"
   ]
  },
  {
   "cell_type": "code",
   "execution_count": 7,
   "id": "465d21fe-64c4-48a4-b26e-f6450798ca94",
   "metadata": {},
   "outputs": [
    {
     "name": "stdout",
     "output_type": "stream",
     "text": [
      "Epoch 1/10\n",
      "\u001b[1m1407/1407\u001b[0m \u001b[32m━━━━━━━━━━━━━━━━━━━━\u001b[0m\u001b[37m\u001b[0m \u001b[1m2s\u001b[0m 986us/step - accuracy: 0.7479 - loss: 0.7301 - val_accuracy: 0.8441 - val_loss: 0.4459\n",
      "Epoch 2/10\n",
      "\u001b[1m1407/1407\u001b[0m \u001b[32m━━━━━━━━━━━━━━━━━━━━\u001b[0m\u001b[37m\u001b[0m \u001b[1m1s\u001b[0m 928us/step - accuracy: 0.8512 - loss: 0.4216 - val_accuracy: 0.8586 - val_loss: 0.3985\n",
      "Epoch 3/10\n",
      "\u001b[1m1407/1407\u001b[0m \u001b[32m━━━━━━━━━━━━━━━━━━━━\u001b[0m\u001b[37m\u001b[0m \u001b[1m1s\u001b[0m 947us/step - accuracy: 0.8675 - loss: 0.3680 - val_accuracy: 0.8663 - val_loss: 0.3749\n",
      "Epoch 4/10\n",
      "\u001b[1m1407/1407\u001b[0m \u001b[32m━━━━━━━━━━━━━━━━━━━━\u001b[0m\u001b[37m\u001b[0m \u001b[1m1s\u001b[0m 914us/step - accuracy: 0.8755 - loss: 0.3447 - val_accuracy: 0.8684 - val_loss: 0.3715\n",
      "Epoch 5/10\n",
      "\u001b[1m1407/1407\u001b[0m \u001b[32m━━━━━━━━━━━━━━━━━━━━\u001b[0m\u001b[37m\u001b[0m \u001b[1m1s\u001b[0m 925us/step - accuracy: 0.8821 - loss: 0.3257 - val_accuracy: 0.8722 - val_loss: 0.3582\n",
      "Epoch 6/10\n",
      "\u001b[1m1407/1407\u001b[0m \u001b[32m━━━━━━━━━━━━━━━━━━━━\u001b[0m\u001b[37m\u001b[0m \u001b[1m1s\u001b[0m 910us/step - accuracy: 0.8865 - loss: 0.3137 - val_accuracy: 0.8750 - val_loss: 0.3525\n",
      "Epoch 7/10\n",
      "\u001b[1m1407/1407\u001b[0m \u001b[32m━━━━━━━━━━━━━━━━━━━━\u001b[0m\u001b[37m\u001b[0m \u001b[1m1s\u001b[0m 934us/step - accuracy: 0.8940 - loss: 0.2913 - val_accuracy: 0.8727 - val_loss: 0.3496\n",
      "Epoch 8/10\n",
      "\u001b[1m1407/1407\u001b[0m \u001b[32m━━━━━━━━━━━━━━━━━━━━\u001b[0m\u001b[37m\u001b[0m \u001b[1m1s\u001b[0m 924us/step - accuracy: 0.8959 - loss: 0.2866 - val_accuracy: 0.8806 - val_loss: 0.3369\n",
      "Epoch 9/10\n",
      "\u001b[1m1407/1407\u001b[0m \u001b[32m━━━━━━━━━━━━━━━━━━━━\u001b[0m\u001b[37m\u001b[0m \u001b[1m1s\u001b[0m 910us/step - accuracy: 0.9004 - loss: 0.2750 - val_accuracy: 0.8767 - val_loss: 0.3588\n",
      "Epoch 10/10\n",
      "\u001b[1m1407/1407\u001b[0m \u001b[32m━━━━━━━━━━━━━━━━━━━━\u001b[0m\u001b[37m\u001b[0m \u001b[1m1s\u001b[0m 905us/step - accuracy: 0.9009 - loss: 0.2640 - val_accuracy: 0.8823 - val_loss: 0.3360\n",
      "\u001b[1m313/313\u001b[0m \u001b[32m━━━━━━━━━━━━━━━━━━━━\u001b[0m\u001b[37m\u001b[0m \u001b[1m0s\u001b[0m 595us/step - accuracy: 0.8683 - loss: 0.3646\n",
      "Точность архитектуры №2 -  87.10%\n"
     ]
    }
   ],
   "source": [
    "# Архитектура №2\n",
    "model2 = Sequential()\n",
    "model2.add(Dense( 50, input_dim=784, activation='relu'))\n",
    "model2.add(Dense(10, activation='softmax'))\n",
    "model2.compile(loss='categorical_crossentropy', optimizer='adam',\n",
    "metrics=['accuracy'])\n",
    "model2.fit(x_train_1d, y_train, epochs=epochs, validation_split=learning_rate)\n",
    "\n",
    "_, test_acc2 = model2.evaluate(x_test_1d, y_test) \n",
    "print(f\"Точность архитектуры №2 - {test_acc2*100: .2f}%\")"
   ]
  },
  {
   "cell_type": "code",
   "execution_count": 9,
   "id": "df2ce45e-628a-422d-a915-24533e811157",
   "metadata": {},
   "outputs": [
    {
     "name": "stdout",
     "output_type": "stream",
     "text": [
      "Epoch 1/10\n",
      "\u001b[1m1407/1407\u001b[0m \u001b[32m━━━━━━━━━━━━━━━━━━━━\u001b[0m\u001b[37m\u001b[0m \u001b[1m2s\u001b[0m 1ms/step - accuracy: 0.7333 - loss: 0.7438 - val_accuracy: 0.8381 - val_loss: 0.4436\n",
      "Epoch 2/10\n",
      "\u001b[1m1407/1407\u001b[0m \u001b[32m━━━━━━━━━━━━━━━━━━━━\u001b[0m\u001b[37m\u001b[0m \u001b[1m1s\u001b[0m 987us/step - accuracy: 0.8511 - loss: 0.4121 - val_accuracy: 0.8495 - val_loss: 0.4064\n",
      "Epoch 3/10\n",
      "\u001b[1m1407/1407\u001b[0m \u001b[32m━━━━━━━━━━━━━━━━━━━━\u001b[0m\u001b[37m\u001b[0m \u001b[1m1s\u001b[0m 962us/step - accuracy: 0.8671 - loss: 0.3645 - val_accuracy: 0.8593 - val_loss: 0.3874\n",
      "Epoch 4/10\n",
      "\u001b[1m1407/1407\u001b[0m \u001b[32m━━━━━━━━━━━━━━━━━━━━\u001b[0m\u001b[37m\u001b[0m \u001b[1m1s\u001b[0m 972us/step - accuracy: 0.8750 - loss: 0.3389 - val_accuracy: 0.8743 - val_loss: 0.3549\n",
      "Epoch 5/10\n",
      "\u001b[1m1407/1407\u001b[0m \u001b[32m━━━━━━━━━━━━━━━━━━━━\u001b[0m\u001b[37m\u001b[0m \u001b[1m1s\u001b[0m 961us/step - accuracy: 0.8823 - loss: 0.3155 - val_accuracy: 0.8780 - val_loss: 0.3426\n",
      "Epoch 6/10\n",
      "\u001b[1m1407/1407\u001b[0m \u001b[32m━━━━━━━━━━━━━━━━━━━━\u001b[0m\u001b[37m\u001b[0m \u001b[1m1s\u001b[0m 995us/step - accuracy: 0.8892 - loss: 0.3032 - val_accuracy: 0.8770 - val_loss: 0.3435\n",
      "Epoch 7/10\n",
      "\u001b[1m1407/1407\u001b[0m \u001b[32m━━━━━━━━━━━━━━━━━━━━\u001b[0m\u001b[37m\u001b[0m \u001b[1m1s\u001b[0m 1ms/step - accuracy: 0.8891 - loss: 0.3005 - val_accuracy: 0.8804 - val_loss: 0.3448\n",
      "Epoch 8/10\n",
      "\u001b[1m1407/1407\u001b[0m \u001b[32m━━━━━━━━━━━━━━━━━━━━\u001b[0m\u001b[37m\u001b[0m \u001b[1m1s\u001b[0m 1ms/step - accuracy: 0.8918 - loss: 0.2849 - val_accuracy: 0.8779 - val_loss: 0.3441\n",
      "Epoch 9/10\n",
      "\u001b[1m1407/1407\u001b[0m \u001b[32m━━━━━━━━━━━━━━━━━━━━\u001b[0m\u001b[37m\u001b[0m \u001b[1m2s\u001b[0m 1ms/step - accuracy: 0.8971 - loss: 0.2728 - val_accuracy: 0.8744 - val_loss: 0.3401\n",
      "Epoch 10/10\n",
      "\u001b[1m1407/1407\u001b[0m \u001b[32m━━━━━━━━━━━━━━━━━━━━\u001b[0m\u001b[37m\u001b[0m \u001b[1m2s\u001b[0m 1ms/step - accuracy: 0.9020 - loss: 0.2598 - val_accuracy: 0.8850 - val_loss: 0.3251\n",
      "\u001b[1m313/313\u001b[0m \u001b[32m━━━━━━━━━━━━━━━━━━━━\u001b[0m\u001b[37m\u001b[0m \u001b[1m0s\u001b[0m 673us/step - accuracy: 0.8801 - loss: 0.3465\n",
      "Точность архитектуры №3 -  87.97%\n"
     ]
    }
   ],
   "source": [
    "# Архитектура №3\n",
    "model3 = Sequential()\n",
    "model3.add(Dense(50, input_dim=784, activation='relu'))\n",
    "model3.add(Dense(50, activation='relu'))\n",
    "model3.add(Dense(10, activation='softmax'))\n",
    "model3.compile(loss='categorical_crossentropy', optimizer='adam',\n",
    "metrics=['accuracy'])\n",
    "model3.fit(x_train_1d, y_train, epochs=epochs, validation_split=learning_rate)\n",
    "\n",
    "_, test_acc3 = model3.evaluate(x_test_1d, y_test) \n",
    "print(f\"Точность архитектуры №3 - {test_acc3*100: .2f}%\")"
   ]
  },
  {
   "cell_type": "code",
   "execution_count": 11,
   "id": "ec5e013c-067d-4117-9e1d-6ad9daf6058f",
   "metadata": {},
   "outputs": [
    {
     "name": "stdout",
     "output_type": "stream",
     "text": [
      "Epoch 1/10\n"
     ]
    },
    {
     "name": "stderr",
     "output_type": "stream",
     "text": [
      "C:\\Users\\prayD\\anaconda3\\Lib\\site-packages\\keras\\src\\layers\\convolutional\\base_conv.py:107: UserWarning: Do not pass an `input_shape`/`input_dim` argument to a layer. When using Sequential models, prefer using an `Input(shape)` object as the first layer in the model instead.\n",
      "  super().__init__(activity_regularizer=activity_regularizer, **kwargs)\n"
     ]
    },
    {
     "name": "stdout",
     "output_type": "stream",
     "text": [
      "\u001b[1m1407/1407\u001b[0m \u001b[32m━━━━━━━━━━━━━━━━━━━━\u001b[0m\u001b[37m\u001b[0m \u001b[1m5s\u001b[0m 3ms/step - accuracy: 0.7852 - loss: 0.6130 - val_accuracy: 0.8547 - val_loss: 0.4130\n",
      "Epoch 2/10\n",
      "\u001b[1m1407/1407\u001b[0m \u001b[32m━━━━━━━━━━━━━━━━━━━━\u001b[0m\u001b[37m\u001b[0m \u001b[1m4s\u001b[0m 3ms/step - accuracy: 0.8807 - loss: 0.3403 - val_accuracy: 0.8846 - val_loss: 0.3309\n",
      "Epoch 3/10\n",
      "\u001b[1m1407/1407\u001b[0m \u001b[32m━━━━━━━━━━━━━━━━━━━━\u001b[0m\u001b[37m\u001b[0m \u001b[1m4s\u001b[0m 3ms/step - accuracy: 0.8964 - loss: 0.2961 - val_accuracy: 0.8903 - val_loss: 0.3074\n",
      "Epoch 4/10\n",
      "\u001b[1m1407/1407\u001b[0m \u001b[32m━━━━━━━━━━━━━━━━━━━━\u001b[0m\u001b[37m\u001b[0m \u001b[1m4s\u001b[0m 3ms/step - accuracy: 0.9079 - loss: 0.2640 - val_accuracy: 0.8934 - val_loss: 0.3066\n",
      "Epoch 5/10\n",
      "\u001b[1m1407/1407\u001b[0m \u001b[32m━━━━━━━━━━━━━━━━━━━━\u001b[0m\u001b[37m\u001b[0m \u001b[1m4s\u001b[0m 3ms/step - accuracy: 0.9115 - loss: 0.2473 - val_accuracy: 0.8964 - val_loss: 0.2950\n",
      "Epoch 6/10\n",
      "\u001b[1m1407/1407\u001b[0m \u001b[32m━━━━━━━━━━━━━━━━━━━━\u001b[0m\u001b[37m\u001b[0m \u001b[1m4s\u001b[0m 3ms/step - accuracy: 0.9176 - loss: 0.2333 - val_accuracy: 0.9015 - val_loss: 0.2798\n",
      "Epoch 7/10\n",
      "\u001b[1m1407/1407\u001b[0m \u001b[32m━━━━━━━━━━━━━━━━━━━━\u001b[0m\u001b[37m\u001b[0m \u001b[1m4s\u001b[0m 3ms/step - accuracy: 0.9249 - loss: 0.2155 - val_accuracy: 0.9018 - val_loss: 0.2858\n",
      "Epoch 8/10\n",
      "\u001b[1m1407/1407\u001b[0m \u001b[32m━━━━━━━━━━━━━━━━━━━━\u001b[0m\u001b[37m\u001b[0m \u001b[1m4s\u001b[0m 3ms/step - accuracy: 0.9247 - loss: 0.2088 - val_accuracy: 0.8971 - val_loss: 0.2927\n",
      "Epoch 9/10\n",
      "\u001b[1m1407/1407\u001b[0m \u001b[32m━━━━━━━━━━━━━━━━━━━━\u001b[0m\u001b[37m\u001b[0m \u001b[1m4s\u001b[0m 3ms/step - accuracy: 0.9289 - loss: 0.1983 - val_accuracy: 0.9004 - val_loss: 0.2913\n",
      "Epoch 10/10\n",
      "\u001b[1m1407/1407\u001b[0m \u001b[32m━━━━━━━━━━━━━━━━━━━━\u001b[0m\u001b[37m\u001b[0m \u001b[1m4s\u001b[0m 3ms/step - accuracy: 0.9337 - loss: 0.1858 - val_accuracy: 0.9032 - val_loss: 0.2821\n",
      "\u001b[1m313/313\u001b[0m \u001b[32m━━━━━━━━━━━━━━━━━━━━\u001b[0m\u001b[37m\u001b[0m \u001b[1m0s\u001b[0m 1ms/step - accuracy: 0.8998 - loss: 0.2971 \n",
      "Точность архитектуры №4 -  89.76%\n"
     ]
    }
   ],
   "source": [
    "# Архитектура №4\n",
    "model4 = Sequential()\n",
    "model4.add(Conv2D(filters=64, kernel_size=2, padding='same',\n",
    "activation='relu', input_shape=(28,28, 1)))\n",
    "model4.add(MaxPooling2D(pool_size=2))\n",
    "model4.add(Flatten())\n",
    "model4.add(Dense(10, activation='softmax'))\n",
    "model4.compile(loss='categorical_crossentropy', optimizer='adam',\n",
    "metrics=['accuracy'])\n",
    "model4.fit(x_train_2d, y_train, epochs=epochs, validation_split=learning_rate)\n",
    "\n",
    "_, test_acc4 = model4.evaluate(x_test_2d, y_test) \n",
    "print(f\"Точность архитектуры №4 - {test_acc4*100: .2f}%\")"
   ]
  },
  {
   "cell_type": "code",
   "execution_count": 13,
   "id": "db0d1ea7-e13e-424b-a1b0-5f1933604d1b",
   "metadata": {},
   "outputs": [
    {
     "name": "stdout",
     "output_type": "stream",
     "text": [
      "Epoch 1/10\n",
      "\u001b[1m1407/1407\u001b[0m \u001b[32m━━━━━━━━━━━━━━━━━━━━\u001b[0m\u001b[37m\u001b[0m \u001b[1m2s\u001b[0m 1ms/step - accuracy: 0.1498 - loss: 2.1237 - val_accuracy: 0.2055 - val_loss: 1.6857\n",
      "Epoch 2/10\n",
      "\u001b[1m1407/1407\u001b[0m \u001b[32m━━━━━━━━━━━━━━━━━━━━\u001b[0m\u001b[37m\u001b[0m \u001b[1m2s\u001b[0m 1ms/step - accuracy: 0.2640 - loss: 1.5968 - val_accuracy: 0.3139 - val_loss: 1.4581\n",
      "Epoch 3/10\n",
      "\u001b[1m1407/1407\u001b[0m \u001b[32m━━━━━━━━━━━━━━━━━━━━\u001b[0m\u001b[37m\u001b[0m \u001b[1m1s\u001b[0m 1ms/step - accuracy: 0.3701 - loss: 1.3301 - val_accuracy: 0.4941 - val_loss: 1.0865\n",
      "Epoch 4/10\n",
      "\u001b[1m1407/1407\u001b[0m \u001b[32m━━━━━━━━━━━━━━━━━━━━\u001b[0m\u001b[37m\u001b[0m \u001b[1m1s\u001b[0m 1ms/step - accuracy: 0.5150 - loss: 1.0421 - val_accuracy: 0.5428 - val_loss: 0.9821\n",
      "Epoch 5/10\n",
      "\u001b[1m1407/1407\u001b[0m \u001b[32m━━━━━━━━━━━━━━━━━━━━\u001b[0m\u001b[37m\u001b[0m \u001b[1m1s\u001b[0m 995us/step - accuracy: 0.5490 - loss: 0.9523 - val_accuracy: 0.5705 - val_loss: 0.9212\n",
      "Epoch 6/10\n",
      "\u001b[1m1407/1407\u001b[0m \u001b[32m━━━━━━━━━━━━━━━━━━━━\u001b[0m\u001b[37m\u001b[0m \u001b[1m1s\u001b[0m 1ms/step - accuracy: 0.5692 - loss: 0.8989 - val_accuracy: 0.5793 - val_loss: 0.8939\n",
      "Epoch 7/10\n",
      "\u001b[1m1407/1407\u001b[0m \u001b[32m━━━━━━━━━━━━━━━━━━━━\u001b[0m\u001b[37m\u001b[0m \u001b[1m1s\u001b[0m 995us/step - accuracy: 0.5870 - loss: 0.8711 - val_accuracy: 0.5849 - val_loss: 0.8787\n",
      "Epoch 8/10\n",
      "\u001b[1m1407/1407\u001b[0m \u001b[32m━━━━━━━━━━━━━━━━━━━━\u001b[0m\u001b[37m\u001b[0m \u001b[1m1s\u001b[0m 1ms/step - accuracy: 0.6224 - loss: 0.8377 - val_accuracy: 0.7120 - val_loss: 0.7547\n",
      "Epoch 9/10\n",
      "\u001b[1m1407/1407\u001b[0m \u001b[32m━━━━━━━━━━━━━━━━━━━━\u001b[0m\u001b[37m\u001b[0m \u001b[1m1s\u001b[0m 999us/step - accuracy: 0.7478 - loss: 0.7039 - val_accuracy: 0.7705 - val_loss: 0.6801\n",
      "Epoch 10/10\n",
      "\u001b[1m1407/1407\u001b[0m \u001b[32m━━━━━━━━━━━━━━━━━━━━\u001b[0m\u001b[37m\u001b[0m \u001b[1m1s\u001b[0m 1ms/step - accuracy: 0.7873 - loss: 0.6355 - val_accuracy: 0.7755 - val_loss: 0.6511\n",
      "\u001b[1m313/313\u001b[0m \u001b[32m━━━━━━━━━━━━━━━━━━━━\u001b[0m\u001b[37m\u001b[0m \u001b[1m0s\u001b[0m 622us/step - accuracy: 0.7704 - loss: 0.6630\n",
      "Точность архитектуры №5 -  76.87%\n"
     ]
    }
   ],
   "source": [
    "from tensorflow.keras import initializers\n",
    "\n",
    "# Вариант №2 (3-3-2)\n",
    "\n",
    "model5 = Sequential()\n",
    "#3\n",
    "model5.add(Dense(50, input_dim=784, kernel_initializer=initializers.RandomUniform(minval=-0.3, maxval=0.3), bias_initializer=initializers.RandomUniform(minval=-0.3, maxval=0.3), activation='sigmoid'))\n",
    "model5.add(Dense(50, kernel_initializer=initializers.RandomUniform(minval=-0.3, maxval=0.3), bias_initializer=initializers.RandomUniform(minval=-0.3, maxval=0.3), activation='sigmoid'))\n",
    "model5.add(Dense(10, kernel_initializer=initializers.RandomUniform(minval=-0.3, maxval=0.3), bias_initializer=initializers.RandomUniform(minval=-0.3, maxval=0.3), activation='sigmoid'))\n",
    "#3\n",
    "model5.add(Dense(50, kernel_initializer=initializers.RandomUniform(minval=-0.3, maxval=0.3), bias_initializer=initializers.RandomUniform(minval=-0.3, maxval=0.3), activation='sigmoid'))\n",
    "model5.add(Dense(50, kernel_initializer=initializers.RandomUniform(minval=-0.3, maxval=0.3), bias_initializer=initializers.RandomUniform(minval=-0.3, maxval=0.3), activation='sigmoid'))\n",
    "model5.add(Dense(10, kernel_initializer=initializers.RandomUniform(minval=-0.3, maxval=0.3), bias_initializer=initializers.RandomUniform(minval=-0.3, maxval=0.3), activation='sigmoid'))\n",
    "#2\n",
    "model5.add(Dense( 50, kernel_initializer=initializers.RandomUniform(minval=-0.3, maxval=0.3), bias_initializer=initializers.RandomUniform(minval=-0.3, maxval=0.3), activation='sigmoid'))\n",
    "model5.add(Dense(10, kernel_initializer=initializers.RandomUniform(minval=-0.3, maxval=0.3), bias_initializer=initializers.RandomUniform(minval=-0.3, maxval=0.3), activation='sigmoid'))\n",
    "#Компиляция модели\n",
    "model5.compile(loss='categorical_crossentropy', optimizer='adam', metrics=['accuracy'])\n",
    "model5.fit(x_train_1d, y_train, epochs=epochs, validation_split=learning_rate)\n",
    "\n",
    "\n",
    "_, test_acc5 = model5.evaluate(x_test_1d, y_test) \n",
    "print(f\"Точность архитектуры №5 - {test_acc5*100: .2f}%\")"
   ]
  },
  {
   "cell_type": "code",
   "execution_count": 15,
   "id": "255d394a-de02-4def-9ebc-82fd9891afa3",
   "metadata": {},
   "outputs": [
    {
     "name": "stdout",
     "output_type": "stream",
     "text": [
      "Топ архитектур по точности при заданном кол-во эпох = 10 и скорости обучения = 0.25 - [(4, 89.76), (3, 87.97), (2, 87.1), (1, 83.93), (5, 76.87)]\n"
     ]
    }
   ],
   "source": [
    "# Вывод статистики точности архитектур\n",
    "import math\n",
    "\n",
    "results = {1: round(test_acc1*100,2),\n",
    "          2: round(test_acc2*100,2),\n",
    "          3: round(test_acc3*100,2),\n",
    "          4: round(test_acc4*100,2),\n",
    "          5: round(test_acc5*100,2)}\n",
    "top_results = sorted(results.items(), key=lambda item: item[1], reverse=True) \n",
    "\n",
    "print(f\"Топ архитектур по точности при заданном кол-во эпох = {epochs} и скорости обучения = {learning_rate} - {top_results}\")"
   ]
  }
 ],
 "metadata": {
  "kernelspec": {
   "display_name": "Python 3 (ipykernel)",
   "language": "python",
   "name": "python3"
  },
  "language_info": {
   "codemirror_mode": {
    "name": "ipython",
    "version": 3
   },
   "file_extension": ".py",
   "mimetype": "text/x-python",
   "name": "python",
   "nbconvert_exporter": "python",
   "pygments_lexer": "ipython3",
   "version": "3.11.11"
  }
 },
 "nbformat": 4,
 "nbformat_minor": 5
}
