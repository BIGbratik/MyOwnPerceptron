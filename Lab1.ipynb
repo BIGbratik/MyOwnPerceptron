{
 "cells": [
  {
   "cell_type": "code",
   "execution_count": 368,
   "id": "366e6406-5a3e-4970-ac85-f9f0b547f1ce",
   "metadata": {},
   "outputs": [],
   "source": [
    "import numpy as np\n",
    "\n",
    "# Класс, реализующий функции однослойного перцепторна\n",
    "class Perceptron:\n",
    "    def __init__(self, input_size, features, learning_rate=0.01, epochs=1000):\n",
    "        self.input_size = input_size\n",
    "        self.learning_rate = learning_rate\n",
    "        self.epochs = epochs\n",
    "        self.loss_history = []\n",
    "        # Инициализируем веса случайными небольшими значениями\n",
    "        self.weights =  np.random.uniform(-1,1,(input_size,features))\n",
    "        self.biases = np.random.uniform(-1,1,features)\n",
    "\n",
    "    # Фнукция активации - Сигмоид\n",
    "    def activation(self, x):\n",
    "        return 1 / (1 + np.exp(-x))\n",
    "\n",
    "    # Производная функции активации\n",
    "    def derivative_activation(self, x):\n",
    "        return x * (1 - x)\n",
    "\n",
    "    # Предсказание\n",
    "    def predict(self, x):\n",
    "        linear_output = np.dot(x, self.weights) + self.biases\n",
    "        return self.activation(linear_output)\n",
    "\n",
    "    def loss(self, predicted, target):\n",
    "        return predicted - target\n",
    "\n",
    "    def fit(self, X, Y):\n",
    "        for epoch in range(self.epochs):\n",
    "            total_loss = 0  # Накопление ошибки за эпоху\n",
    "\n",
    "            for i in range(len(X)):\n",
    "                x = X[i]\n",
    "                y = Y[i]\n",
    "                output = self.predict(x)\n",
    "                error = y - output\n",
    "                gradient = error * self.derivative_activation(output)\n",
    "                self.weights += self.learning_rate * np.outer(x, gradient)\n",
    "                self.biases += self.learning_rate * gradient\n",
    "                total_loss += np.mean(error**2)\n",
    "            self.loss_history.append(total_loss / len(X))\n",
    "            print(f\"Эпоха {epoch + 1}/{self.epochs}, Потери: {self.loss_history[-1]:.4f}\")\n",
    "\n",
    "    # Рассчёт точности обученной модели\n",
    "    def evaluate(self, X, y):\n",
    "        correct_predictions = 0\n",
    "        for i in range(len(X)):\n",
    "            predict = self.predict(X[i])\n",
    "            if np.argmax(predict) == np.argmax(y[i]):\n",
    "                correct_predictions += 1\n",
    "        return correct_predictions / len(X)"
   ]
  },
  {
   "cell_type": "code",
   "execution_count": 404,
   "id": "4f3500f6-5ef6-4ce3-8084-b8e7f2f223a4",
   "metadata": {},
   "outputs": [
    {
     "name": "stdout",
     "output_type": "stream",
     "text": [
      "Эпоха 1/50, Потери: 0.0624\n",
      "Эпоха 2/50, Потери: 0.0520\n",
      "Эпоха 3/50, Потери: 0.0392\n",
      "Эпоха 4/50, Потери: 0.0339\n",
      "Эпоха 5/50, Потери: 0.0331\n",
      "Эпоха 6/50, Потери: 0.0326\n",
      "Эпоха 7/50, Потери: 0.0322\n",
      "Эпоха 8/50, Потери: 0.0319\n",
      "Эпоха 9/50, Потери: 0.0316\n",
      "Эпоха 10/50, Потери: 0.0290\n",
      "Эпоха 11/50, Потери: 0.0265\n",
      "Эпоха 12/50, Потери: 0.0261\n",
      "Эпоха 13/50, Потери: 0.0257\n",
      "Эпоха 14/50, Потери: 0.0255\n",
      "Эпоха 15/50, Потери: 0.0254\n",
      "Эпоха 16/50, Потери: 0.0252\n",
      "Эпоха 17/50, Потери: 0.0251\n",
      "Эпоха 18/50, Потери: 0.0250\n",
      "Эпоха 19/50, Потери: 0.0249\n",
      "Эпоха 20/50, Потери: 0.0249\n",
      "Эпоха 21/50, Потери: 0.0248\n",
      "Эпоха 22/50, Потери: 0.0247\n",
      "Эпоха 23/50, Потери: 0.0246\n",
      "Эпоха 24/50, Потери: 0.0245\n",
      "Эпоха 25/50, Потери: 0.0244\n",
      "Эпоха 26/50, Потери: 0.0244\n",
      "Эпоха 27/50, Потери: 0.0243\n",
      "Эпоха 28/50, Потери: 0.0243\n",
      "Эпоха 29/50, Потери: 0.0242\n",
      "Эпоха 30/50, Потери: 0.0242\n",
      "Эпоха 31/50, Потери: 0.0241\n",
      "Эпоха 32/50, Потери: 0.0241\n",
      "Эпоха 33/50, Потери: 0.0240\n",
      "Эпоха 34/50, Потери: 0.0240\n",
      "Эпоха 35/50, Потери: 0.0239\n",
      "Эпоха 36/50, Потери: 0.0239\n",
      "Эпоха 37/50, Потери: 0.0239\n",
      "Эпоха 38/50, Потери: 0.0238\n",
      "Эпоха 39/50, Потери: 0.0238\n",
      "Эпоха 40/50, Потери: 0.0238\n",
      "Эпоха 41/50, Потери: 0.0237\n",
      "Эпоха 42/50, Потери: 0.0237\n",
      "Эпоха 43/50, Потери: 0.0237\n",
      "Эпоха 44/50, Потери: 0.0236\n",
      "Эпоха 45/50, Потери: 0.0236\n",
      "Эпоха 46/50, Потери: 0.0236\n",
      "Эпоха 47/50, Потери: 0.0235\n",
      "Эпоха 48/50, Потери: 0.0235\n",
      "Эпоха 49/50, Потери: 0.0235\n",
      "Эпоха 50/50, Потери: 0.0234\n"
     ]
    }
   ],
   "source": [
    "from tensorflow.keras.datasets import fashion_mnist\n",
    "from tensorflow.keras.utils import to_categorical\n",
    "\n",
    "(x_train, y_train), (x_test, y_test) = fashion_mnist.load_data()\n",
    "x_train = x_train.reshape(x_train.shape[0], -1) / 255.0\n",
    "x_test = x_test.reshape(x_test.shape[0], -1) / 255.0\n",
    "y_train = to_categorical(y_train)\n",
    "y_test = to_categorical(y_test)\n",
    "\n",
    "# Создаем объект перцептрона\n",
    "perceptron = Perceptron(input_size=x_train.shape[1], features=y_train.shape[1], learning_rate=0.1, epochs=50)\n",
    "# Обучаем перцептрон\n",
    "perceptron.fit(x_train, y_train)\n"
   ]
  },
  {
   "cell_type": "code",
   "execution_count": 406,
   "id": "99535e98-7fcf-42fe-b79e-09ae3ccc4d06",
   "metadata": {},
   "outputs": [
    {
     "name": "stdout",
     "output_type": "stream",
     "text": [
      "Точность на обучающей выборке: 84.05%\n"
     ]
    }
   ],
   "source": [
    "# Проверяем, как перцептрон предсказывает обучение\n",
    "accuracy = perceptron.evaluate(x_test, y_test)\n",
    "\n",
    "print(f\"Точность на обучающей выборке: {accuracy * 100:.2f}%\")"
   ]
  },
  {
   "cell_type": "code",
   "execution_count": 426,
   "id": "a2f96806-b678-4ff6-aeb7-2f4cf9989d76",
   "metadata": {},
   "outputs": [
    {
     "name": "stdout",
     "output_type": "stream",
     "text": [
      "(784,)\n",
      "(784, 1)\n",
      "[[-22.40397098]\n",
      " [-12.93286076]\n",
      " [-20.99987357]\n",
      " [ -2.84258397]\n",
      " [ 44.38673589]\n",
      " [-21.66704556]\n",
      " [ -6.26102356]\n",
      " [-56.30317972]\n",
      " [  7.38570122]\n",
      " [-29.29437692]]\n"
     ]
    },
    {
     "data": {
      "image/png": "[encoded data removed]",
      "text/plain": [
       "<Figure size 640x480 with 1 Axes>"
      ]
     },
     "metadata": {},
     "output_type": "display_data"
    }
   ],
   "source": [
    "import matplotlib.pyplot as plt\n",
    "\n",
    "# Берём своё изображение\n",
    "test_image = plt.imread(\"custom_0.jpg\", format=\"jpeg\")\n",
    "#test_image = plt.imread(\"custom_7.jpg\", format=\"jpeg\")\n",
    "\n",
    "# Приведение изображения виду датасета MNIST\n",
    "gray = lambda rgb : np.dot(rgb[... , :3] , [0.299 , 0.587, 0.114]) \n",
    "test_image = 1 - (gray(test_image).astype(\"float32\") / 255)\n",
    "\n",
    "# Преобразование изображения к виду массива\n",
    "test_image = np.reshape(test_image, (test_image.shape[0] * test_image.shape[1]))\n",
    "\n",
    "# Предсказание заданного изображения обученной моделью\n",
    "print(test_image.shape)\n",
    "image = np.reshape(test_image, (-1, 1))\n",
    "\n",
    "print(image.shape)\n",
    "linear_output= np.dot(perceptron.weights.T,image)\n",
    "print(linear_output)\n",
    "output = perceptron.activation(linear_output.T)\n",
    "\n",
    "#print(output)\n",
    "plt.imshow(test_image.reshape(28, 28), cmap=\"Greys\")\n",
    "plt.title(f\"NN suggests the CUSTOM number is: {output.argmax()}\")\n",
    "plt.show()"
   ]
  }
 ],
 "metadata": {
  "kernelspec": {
   "display_name": "Python 3 (ipykernel)",
   "language": "python",
   "name": "python3"
  },
  "language_info": {
   "codemirror_mode": {
    "name": "ipython",
    "version": 3
   },
   "file_extension": ".py",
   "mimetype": "text/x-python",
   "name": "python",
   "nbconvert_exporter": "python",
   "pygments_lexer": "ipython3",
   "version": "3.11.11"
  }
 },
 "nbformat": 4,
 "nbformat_minor": 5
}
