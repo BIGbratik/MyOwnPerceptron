{
 "cells": [
  {
   "cell_type": "code",
   "execution_count": null,
   "id": "1d3767d7-4d47-41ce-9fb6-b1f27a748c46",
   "metadata": {},
   "outputs": [],
   "source": [
    "# 1. Simple perceptron\n",
    "\n",
    "# 1) Получить вектор входных данных (если будет двумерный, то обрабатывать для каждой строки матрицы)\n",
    "# 2) Задать начальные значения весов для входов, а также значения ошибки и отклонения\n",
    "# 3) Для каждого вектора получить взвешенную сумму (сумма произведений элементов на их веса)\n",
    "# 4) Получить значение функции активации для вектора (можно взять просетйщую - Хевисайда)\n",
    "# 5) Провести оценку ошибки на основе ожидаемых результатов"
   ]
  }
 ],
 "metadata": {
  "kernelspec": {
   "display_name": "Python 3 (ipykernel)",
   "language": "python",
   "name": "python3"
  },
  "language_info": {
   "codemirror_mode": {
    "name": "ipython",
    "version": 3
   },
   "file_extension": ".py",
   "mimetype": "text/x-python",
   "name": "python",
   "nbconvert_exporter": "python",
   "pygments_lexer": "ipython3",
   "version": "3.11.11"
  }
 },
 "nbformat": 4,
 "nbformat_minor": 5
}
