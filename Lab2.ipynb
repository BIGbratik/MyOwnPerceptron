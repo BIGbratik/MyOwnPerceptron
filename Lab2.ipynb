{
 "cells": [
  {
   "cell_type": "code",
   "execution_count": 3,
   "id": "e4f73539-102f-4db9-9e57-c7ed8048bc76",
   "metadata": {},
   "outputs": [],
   "source": [
    "import numpy as np\n",
    "\n",
    "# Класс, реализующий функции однослойного перцепторна\n",
    "class Perceptron:\n",
    "    def __init__(self, input_size, features, learning_rate=0.01, epochs=1000):\n",
    "        self.input_size = input_size\n",
    "        self.learning_rate = learning_rate\n",
    "        self.epochs = epochs\n",
    "        self.loss_history = []\n",
    "        # Инициализируем веса случайными небольшими значениями\n",
    "        self.weights =  np.random.uniform(-1,1,(input_size,features))\n",
    "        self.biases = np.random.uniform(-1,1,features)\n",
    "\n",
    "    # Функция активации - SoftMax\n",
    "    def activation(self, x):\n",
    "        e_x = np.exp(x - np.max(x))\n",
    "        return e_x / e_x.sum(axis=-1, keepdims=True)\n",
    "\n",
    "    # Предсказание\n",
    "    def predict(self, x):\n",
    "        linear_output = np.dot(x, self.weights) + self.biases\n",
    "        return self.activation(linear_output)\n",
    "\n",
    "    def loss(self, predicted, target):\n",
    "        return predicted - target\n",
    "\n",
    "    #Обучение\n",
    "    def fit(self, X, Y):\n",
    "        for epoch in range(self.epochs):\n",
    "            total_loss = 0  # Накопление ошибки за эпоху\n",
    "            correct = 0\n",
    "\n",
    "            for i in range(len(X)):\n",
    "                x = X[i]\n",
    "                y = Y[i]\n",
    "                output = self.predict(x)\n",
    "\n",
    "                target = np.argmax(y)\n",
    "                predicted = np.argmax(output)\n",
    "               \n",
    "                if predicted == target:\n",
    "                    correct+=1\n",
    "                    continue\n",
    "                else:\n",
    "                    self.weights[:,target] += self.learning_rate * X[i]\n",
    "                    self.biases[target] += self.learning_rate\n",
    "\n",
    "                    self.weights[:,predicted] -= self.learning_rate * X[i]\n",
    "                    self.biases[predicted] -= self.learning_rate\n",
    "                error = self.loss(output,y)\n",
    "                total_loss += np.mean(error**2)\n",
    "            self.loss_history.append(total_loss / len(X))\n",
    "            print(f\"Эпоха {epoch + 1}/{self.epochs}, Потери: {self.loss_history[-1]:.4f}\")\n",
    "\n",
    "    # Рассчёт точности обученной модели\n",
    "    def evaluate(self, X, y):\n",
    "        correct_predictions = 0\n",
    "        for i in range(len(X)):\n",
    "            predict = self.predict(X[i])\n",
    "            if np.argmax(predict) == np.argmax(y[i]):\n",
    "                correct_predictions += 1\n",
    "        return correct_predictions / len(X)"
   ]
  },
  {
   "cell_type": "code",
   "execution_count": 5,
   "id": "09b99392-6f96-4397-8b2f-f8a3dbdc9abc",
   "metadata": {},
   "outputs": [
    {
     "name": "stdout",
     "output_type": "stream",
     "text": [
      "Эпоха 1/20, Потери: 0.0440\n",
      "Эпоха 2/20, Потери: 0.0383\n",
      "Эпоха 3/20, Потери: 0.0374\n",
      "Эпоха 4/20, Потери: 0.0368\n",
      "Эпоха 5/20, Потери: 0.0362\n",
      "Эпоха 6/20, Потери: 0.0363\n",
      "Эпоха 7/20, Потери: 0.0361\n",
      "Эпоха 8/20, Потери: 0.0357\n",
      "Эпоха 9/20, Потери: 0.0357\n",
      "Эпоха 10/20, Потери: 0.0354\n",
      "Эпоха 11/20, Потери: 0.0351\n",
      "Эпоха 12/20, Потери: 0.0350\n",
      "Эпоха 13/20, Потери: 0.0350\n",
      "Эпоха 14/20, Потери: 0.0348\n",
      "Эпоха 15/20, Потери: 0.0349\n",
      "Эпоха 16/20, Потери: 0.0346\n",
      "Эпоха 17/20, Потери: 0.0350\n",
      "Эпоха 18/20, Потери: 0.0348\n",
      "Эпоха 19/20, Потери: 0.0345\n",
      "Эпоха 20/20, Потери: 0.0345\n"
     ]
    }
   ],
   "source": [
    "from tensorflow.keras.datasets import fashion_mnist\n",
    "from tensorflow.keras.utils import to_categorical\n",
    "\n",
    "(x_train, y_train), (x_test, y_test) = fashion_mnist.load_data()\n",
    "x_train = x_train.reshape(x_train.shape[0], -1) / 255.0\n",
    "x_test = x_test.reshape(x_test.shape[0], -1) / 255.0\n",
    "y_train = to_categorical(y_train)\n",
    "y_test = to_categorical(y_test)\n",
    "\n",
    "# Создаем объект перцептрона\n",
    "perceptron = Perceptron(input_size=x_train.shape[1], features=y_train.shape[1], learning_rate=0.1, epochs=20)\n",
    "# Обучаем перцептрон\n",
    "perceptron.fit(x_train, y_train)"
   ]
  },
  {
   "cell_type": "code",
   "execution_count": 11,
   "id": "846fb12a-8bc6-477f-8075-bd959c501660",
   "metadata": {},
   "outputs": [
    {
     "name": "stdout",
     "output_type": "stream",
     "text": [
      "Точность на обучающей выборке: 74.63%\n"
     ]
    }
   ],
   "source": [
    "# Проверяем, как перцептрон предсказывает обучение\n",
    "accuracy = perceptron.evaluate(x_test, y_test)\n",
    "\n",
    "print(f\"Точность на обучающей выборке: {accuracy * 100:.2f}%\")"
   ]
  },
  {
   "cell_type": "code",
   "execution_count": 41,
   "id": "6f35cc15-158c-4c6a-875c-6ad065944f17",
   "metadata": {},
   "outputs": [
    {
     "name": "stdout",
     "output_type": "stream",
     "text": [
      "Результат работы предсказателя - [[1.78892744e-17 8.28759428e-24 2.57549110e-02 1.01688957e-03\n",
      "  8.04915222e-16 1.35632255e-03 9.71871875e-01 1.79541778e-09\n",
      "  8.28862753e-23 1.51204874e-25]]\n"
     ]
    },
    {
     "data": {
      "image/png": "[encoded data removed]",
      "text/plain": [
       "<Figure size 640x480 with 1 Axes>"
      ]
     },
     "metadata": {},
     "output_type": "display_data"
    }
   ],
   "source": [
    "import matplotlib.pyplot as plt\n",
    "\n",
    "# Берём своё изображение\n",
    "test_image = plt.imread(\"custom_1.jpg\", format=\"jpeg\")\n",
    "\n",
    "# Приведение изображения виду датасета MNIST\n",
    "gray = lambda rgb : np.dot(rgb[... , :3] , [0.299 , 0.587, 0.114]) \n",
    "test_image = 1 - (gray(test_image).astype(\"float32\") / 255)\n",
    "\n",
    "# Преобразование изображения к виду массива\n",
    "test_image = np.reshape(test_image, (test_image.shape[0] * test_image.shape[1]))\n",
    "\n",
    "# Предсказание заданного изображения обученной моделью\n",
    "image = np.reshape(test_image, (-1, 1))\n",
    "\n",
    "output= perceptron.predict(image.T)\n",
    "print(f\"Результат работы предсказателя - {output}\")\n",
    "\n",
    "#print(output)\n",
    "plt.imshow(test_image.reshape(28, 28), cmap=\"Greys\")\n",
    "plt.title(f\"NN suggests the CUSTOM number is: {output.argmax()}\")\n",
    "plt.show()"
   ]
  }
 ],
 "metadata": {
  "kernelspec": {
   "display_name": "Python 3 (ipykernel)",
   "language": "python",
   "name": "python3"
  },
  "language_info": {
   "codemirror_mode": {
    "name": "ipython",
    "version": 3
   },
   "file_extension": ".py",
   "mimetype": "text/x-python",
   "name": "python",
   "nbconvert_exporter": "python",
   "pygments_lexer": "ipython3",
   "version": "3.11.11"
  }
 },
 "nbformat": 4,
 "nbformat_minor": 5
}
